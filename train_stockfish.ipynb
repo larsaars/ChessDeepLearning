{
 "nbformat": 4,
 "nbformat_minor": 0,
 "metadata": {
  "kernelspec": {
   "display_name": "Python 3",
   "language": "python",
   "name": "python3"
  },
  "language_info": {
   "codemirror_mode": {
    "name": "ipython",
    "version": 2
   },
   "file_extension": ".py",
   "mimetype": "text/x-python",
   "name": "python",
   "nbconvert_exporter": "python",
   "pygments_lexer": "ipython2",
   "version": "2.7.6"
  },
  "colab": {
   "name": "train.ipynb",
   "provenance": []
  },
  "accelerator": "GPU"
 },
 "cells": [
  {
   "cell_type": "code",
   "metadata": {
    "pycharm": {
     "name": "#%%\n"
    },
    "colab": {
     "base_uri": "https://localhost:8080/"
    },
    "id": "yEln7vYTGLyu",
    "outputId": "01e2e420-8e99-4363-a729-bbf4732e53c8"
   },
   "source": [
    "# ensure packages are installed, uninstall normal tensorflow and ensure gpu can be used\n",
    "!pip install -qU chess"
   ],
   "execution_count": 1,
   "outputs": [
    {
     "output_type": "stream",
     "text": [
      "\u001B[?25l\r\u001B[K     |██▎                             | 10kB 20.5MB/s eta 0:00:01\r\u001B[K     |████▋                           | 20kB 26.9MB/s eta 0:00:01\r\u001B[K     |███████                         | 30kB 23.2MB/s eta 0:00:01\r\u001B[K     |█████████▎                      | 40kB 16.8MB/s eta 0:00:01\r\u001B[K     |███████████▋                    | 51kB 10.7MB/s eta 0:00:01\r\u001B[K     |██████████████                  | 61kB 12.1MB/s eta 0:00:01\r\u001B[K     |████████████████▎               | 71kB 10.6MB/s eta 0:00:01\r\u001B[K     |██████████████████▌             | 81kB 11.7MB/s eta 0:00:01\r\u001B[K     |████████████████████▉           | 92kB 11.9MB/s eta 0:00:01\r\u001B[K     |███████████████████████▏        | 102kB 9.7MB/s eta 0:00:01\r\u001B[K     |█████████████████████████▌      | 112kB 9.7MB/s eta 0:00:01\r\u001B[K     |███████████████████████████▉    | 122kB 9.7MB/s eta 0:00:01\r\u001B[K     |██████████████████████████████▏ | 133kB 9.7MB/s eta 0:00:01\r\u001B[K     |████████████████████████████████| 143kB 9.7MB/s \n",
      "\u001B[?25h"
     ],
     "name": "stdout"
    }
   ]
  },
  {
   "cell_type": "code",
   "metadata": {
    "pycharm": {
     "name": "#%%\n"
    },
    "colab": {
     "base_uri": "https://localhost:8080/"
    },
    "id": "oez7luTYbdCc",
    "outputId": "0fecc35a-1788-4902-e914-2b6afbf67ad7"
   },
   "source": [
    "import getpass  # For hiding token input\n",
    "\n",
    "# input forms for GitHub username, email address and token\n",
    "GIT_USERNAME = input(\"\\nEnter GitHub user name: \").strip()\n",
    "GIT_EMAIL = input(\"\\nEnter GitHub email address: \").strip()\n",
    "GIT_TOKEN = getpass.getpass(\"\\nEnter GitHub token: \").strip()"
   ],
   "execution_count": 2,
   "outputs": [
    {
     "output_type": "stream",
     "text": [
      "\n",
      "Enter GitHub user name: larsaars\n",
      "\n",
      "Enter GitHub email address: lars.lars.specht@gmail.com\n",
      "\n",
      "Enter GitHub token: ··········\n"
     ],
     "name": "stdout"
    }
   ]
  },
  {
   "cell_type": "code",
   "metadata": {
    "pycharm": {
     "name": "#%%\n"
    },
    "colab": {
     "base_uri": "https://localhost:8080/"
    },
    "id": "7lKGmlxzbdCd",
    "outputId": "5344a82b-ed87-4ae9-c443-c1e8ba24a340"
   },
   "source": [
    "import os\n",
    "\n",
    "%cd /content/\n",
    "\n",
    "# Clean sample_data\n",
    "sd = 'sample_data'\n",
    "if os.path.exists(sd):\n",
    "  print(f\"removing {sd}!\")\n",
    "  !rm -rf {sd}\n",
    "\n",
    "# GitHub repository name\n",
    "GIT_REPOSITORY = 'chess_heuristics_deep_learning'\n",
    "\n",
    "# Path to GitHub repository\n",
    "GIT_PATH = 'https://' + GIT_TOKEN + '@github.com/' + GIT_USERNAME + '/' + GIT_REPOSITORY + '.git'\n",
    "\n",
    "# Clone or pull git repository\n",
    "if not os.path.exists(GIT_REPOSITORY):\n",
    "  # Clone the github repository\n",
    "  !git clone {GIT_PATH}\n",
    "else:\n",
    "  # else pull the github repository\n",
    "  %cd /content/{GIT_REPOSITORY}\n",
    "  !git pull {GIT_PATH}\n",
    "\n",
    "%cd /content/{GIT_REPOSITORY}\n",
    "print(\"\\nDone.\")"
   ],
   "execution_count": 3,
   "outputs": [
    {
     "output_type": "stream",
     "text": [
      "/content\n",
      "removing sample_data!\n",
      "Cloning into 'chess_heuristics_deep_learning'...\n",
      "remote: Enumerating objects: 157, done.\u001B[K\n",
      "remote: Counting objects: 100% (157/157), done.\u001B[K\n",
      "remote: Compressing objects: 100% (111/111), done.\u001B[K\n",
      "remote: Total 157 (delta 79), reused 105 (delta 40), pack-reused 0\u001B[K\n",
      "Receiving objects: 100% (157/157), 13.55 MiB | 13.40 MiB/s, done.\n",
      "Resolving deltas: 100% (79/79), done.\n",
      "/content/chess_heuristics_deep_learning\n",
      "\n",
      "Done.\n"
     ],
     "name": "stdout"
    }
   ]
  },
  {
   "cell_type": "code",
   "metadata": {
    "pycharm": {
     "name": "#%%\n",
     "is_executing": true
    },
    "id": "k0_pC69SGLyv"
   },
   "source": [
    "# upload the dataset to colab, the path is defined here\n",
    "dataset_path = 'data/games_stockfish.csv'"
   ],
   "execution_count": 4,
   "outputs": []
  },
  {
   "cell_type": "code",
   "metadata": {
    "pycharm": {
     "name": "#%%\n",
     "is_executing": true
    },
    "id": "uhsQUSZMGLyy"
   },
   "source": [
    "# make imports\n",
    "import pandas as pd\n",
    "import numpy as np\n",
    "import chess\n",
    "from tensorflow import keras\n",
    "import tensorflow as tf\n",
    "\n",
    "from tensorflow.keras.layers import BatchNormalization, Dense, Flatten\n",
    "from tensorflow.keras.layers import Conv2D, MaxPooling2D\n",
    "from tensorflow.keras.models import Sequential"
   ],
   "execution_count": 5,
   "outputs": []
  },
  {
   "cell_type": "code",
   "metadata": {
    "pycharm": {
     "name": "#%%\n",
     "is_executing": true
    },
    "colab": {
     "base_uri": "https://localhost:8080/"
    },
    "id": "QeukAZX9GLyz",
    "outputId": "c6d92503-283c-4d23-ef94-a9868f6ca18f"
   },
   "source": [
    "# ensure tensorflow is imported properly\n",
    "print(tf.__version__)\n",
    "tf.config.list_physical_devices('GPU')"
   ],
   "execution_count": 6,
   "outputs": [
    {
     "output_type": "stream",
     "text": [
      "2.4.1\n"
     ],
     "name": "stdout"
    },
    {
     "output_type": "execute_result",
     "data": {
      "text/plain": [
       "[PhysicalDevice(name='/physical_device:GPU:0', device_type='GPU')]"
      ]
     },
     "metadata": {
      "tags": []
     },
     "execution_count": 6
    }
   ]
  },
  {
   "cell_type": "code",
   "metadata": {
    "pycharm": {
     "name": "#%%\n",
     "is_executing": true
    },
    "id": "lQWwVDnyGLyz"
   },
   "source": [
    "# utility functions for chess\n",
    "chess_dict = {\n",
    "    'p': [1, 0, 0, 0, 0, 0, 0, 0, 0, 0, 0, 0],\n",
    "    'P': [0, 0, 0, 0, 0, 0, 1, 0, 0, 0, 0, 0],\n",
    "    'n': [0, 1, 0, 0, 0, 0, 0, 0, 0, 0, 0, 0],\n",
    "    'N': [0, 0, 0, 0, 0, 0, 0, 1, 0, 0, 0, 0],\n",
    "    'b': [0, 0, 1, 0, 0, 0, 0, 0, 0, 0, 0, 0],\n",
    "    'B': [0, 0, 0, 0, 0, 0, 0, 0, 1, 0, 0, 0],\n",
    "    'r': [0, 0, 0, 1, 0, 0, 0, 0, 0, 0, 0, 0],\n",
    "    'R': [0, 0, 0, 0, 0, 0, 0, 0, 0, 1, 0, 0],\n",
    "    'q': [0, 0, 0, 0, 1, 0, 0, 0, 0, 0, 0, 0],\n",
    "    'Q': [0, 0, 0, 0, 0, 0, 0, 0, 0, 0, 1, 0],\n",
    "    'k': [0, 0, 0, 0, 0, 1, 0, 0, 0, 0, 0, 0],\n",
    "    'K': [0, 0, 0, 0, 0, 0, 0, 0, 0, 0, 0, 1],\n",
    "    '.': [0, 0, 0, 0, 0, 0, 0, 0, 0, 0, 0, 0],\n",
    "}\n",
    "\n",
    "\n",
    "def make_matrix(board):\n",
    "    pgn = board.epd()\n",
    "    foo = []\n",
    "    pieces = pgn.split(\" \", 1)[0]\n",
    "    rows = pieces.split(\"/\")\n",
    "    for row in rows:\n",
    "        foo2 = []\n",
    "        for thing in row:\n",
    "            if thing.isdigit():\n",
    "                for i in range(0, int(thing)):\n",
    "                    foo2.append('.')\n",
    "            else:\n",
    "                foo2.append(thing)\n",
    "        foo.append(foo2)\n",
    "    return foo\n",
    "\n",
    "\n",
    "def translate(matrix):\n",
    "    rows = []\n",
    "    for row in matrix:\n",
    "        terms = []\n",
    "        for term in row:\n",
    "            terms.append(chess_dict[term])\n",
    "        rows.append(terms)\n",
    "    return rows"
   ],
   "execution_count": 7,
   "outputs": []
  },
  {
   "cell_type": "code",
   "metadata": {
    "pycharm": {
     "name": "#%%\n",
     "is_executing": true
    },
    "id": "Pm24i0cjGLyz"
   },
   "source": [
    "# create the model and compile\n",
    "model = Sequential()\n",
    "model.add(Conv2D(filters=64, kernel_size=1, activation='relu', input_shape=(8, 8, 12)))\n",
    "model.add(MaxPooling2D())\n",
    "model.add(Conv2D(filters=24, kernel_size=1, activation='relu'))\n",
    "model.add(MaxPooling2D())\n",
    "model.add(Conv2D(filters=10, kernel_size=1, activation='relu'))\n",
    "model.add(Flatten())\n",
    "model.add(BatchNormalization())\n",
    "model.add(Dense(1, activation='tanh'))\n",
    "\n",
    "model.compile(optimizer='Nadam', loss='mse')"
   ],
   "execution_count": 8,
   "outputs": []
  },
  {
   "cell_type": "code",
   "metadata": {
    "pycharm": {
     "name": "#%%\n",
     "is_executing": true
    },
    "id": "c40oSurDGLy0"
   },
   "source": [
    "# read the pandas dataframe and create X and y\n",
    "df = pd.read_csv(dataset_path, sep=';')\n",
    "X = []\n",
    "y = []"
   ],
   "execution_count": 9,
   "outputs": []
  },
  {
   "cell_type": "code",
   "metadata": {
    "pycharm": {
     "name": "#%%\n",
     "is_executing": true
    },
    "id": "yHfRLd2wGLy1",
    "colab": {
     "base_uri": "https://localhost:8080/",
     "height": 398
    },
    "outputId": "77370330-bc8d-405b-bd47-e235cdaedeaa"
   },
   "source": [
    "# create dataset\n",
    "for fen, eval in zip(df.FEN, df.Evaluation): \n",
    "    # read fen with chess lib, translate to rows matrix\n",
    "    matrix = make_matrix(chess.Board(fen=fen))\n",
    "    rows = translate(matrix)\n",
    "    \n",
    "    # then add as X and y\n",
    "    try:\n",
    "      f = float(eval)\n",
    "      y.append(f)\n",
    "      X.append(rows)\n",
    "    except:\n",
    "      pass\n",
    "    "
   ],
   "execution_count": 11,
   "outputs": [
    {
     "output_type": "error",
     "ename": "KeyboardInterrupt",
     "evalue": "ignored",
     "traceback": [
      "\u001B[0;31m---------------------------------------------------------------------------\u001B[0m",
      "\u001B[0;31mKeyboardInterrupt\u001B[0m                         Traceback (most recent call last)",
      "\u001B[0;32m<ipython-input-11-84222a99359d>\u001B[0m in \u001B[0;36m<module>\u001B[0;34m()\u001B[0m\n\u001B[1;32m      2\u001B[0m \u001B[0;32mfor\u001B[0m \u001B[0mfen\u001B[0m\u001B[0;34m,\u001B[0m \u001B[0meval\u001B[0m \u001B[0;32min\u001B[0m \u001B[0mzip\u001B[0m\u001B[0;34m(\u001B[0m\u001B[0mdf\u001B[0m\u001B[0;34m.\u001B[0m\u001B[0mFEN\u001B[0m\u001B[0;34m,\u001B[0m \u001B[0mdf\u001B[0m\u001B[0;34m.\u001B[0m\u001B[0mEvaluation\u001B[0m\u001B[0;34m)\u001B[0m\u001B[0;34m:\u001B[0m\u001B[0;34m\u001B[0m\u001B[0;34m\u001B[0m\u001B[0m\n\u001B[1;32m      3\u001B[0m     \u001B[0;31m# read fen with chess lib, translate to rows matrix\u001B[0m\u001B[0;34m\u001B[0m\u001B[0;34m\u001B[0m\u001B[0;34m\u001B[0m\u001B[0m\n\u001B[0;32m----> 4\u001B[0;31m     \u001B[0mmatrix\u001B[0m \u001B[0;34m=\u001B[0m \u001B[0mmake_matrix\u001B[0m\u001B[0;34m(\u001B[0m\u001B[0mchess\u001B[0m\u001B[0;34m.\u001B[0m\u001B[0mBoard\u001B[0m\u001B[0;34m(\u001B[0m\u001B[0mfen\u001B[0m\u001B[0;34m=\u001B[0m\u001B[0mfen\u001B[0m\u001B[0;34m)\u001B[0m\u001B[0;34m)\u001B[0m\u001B[0;34m\u001B[0m\u001B[0;34m\u001B[0m\u001B[0m\n\u001B[0m\u001B[1;32m      5\u001B[0m     \u001B[0mrows\u001B[0m \u001B[0;34m=\u001B[0m \u001B[0mtranslate\u001B[0m\u001B[0;34m(\u001B[0m\u001B[0mmatrix\u001B[0m\u001B[0;34m)\u001B[0m\u001B[0;34m\u001B[0m\u001B[0;34m\u001B[0m\u001B[0m\n\u001B[1;32m      6\u001B[0m \u001B[0;34m\u001B[0m\u001B[0m\n",
      "\u001B[0;32m/usr/local/lib/python3.7/dist-packages/chess/__init__.py\u001B[0m in \u001B[0;36m__init__\u001B[0;34m(self, fen, chess960)\u001B[0m\n\u001B[1;32m   1496\u001B[0m             \u001B[0mself\u001B[0m\u001B[0;34m.\u001B[0m\u001B[0mreset\u001B[0m\u001B[0;34m(\u001B[0m\u001B[0;34m)\u001B[0m\u001B[0;34m\u001B[0m\u001B[0;34m\u001B[0m\u001B[0m\n\u001B[1;32m   1497\u001B[0m         \u001B[0;32melse\u001B[0m\u001B[0;34m:\u001B[0m\u001B[0;34m\u001B[0m\u001B[0;34m\u001B[0m\u001B[0m\n\u001B[0;32m-> 1498\u001B[0;31m             \u001B[0mself\u001B[0m\u001B[0;34m.\u001B[0m\u001B[0mset_fen\u001B[0m\u001B[0;34m(\u001B[0m\u001B[0mfen\u001B[0m\u001B[0;34m)\u001B[0m\u001B[0;34m\u001B[0m\u001B[0;34m\u001B[0m\u001B[0m\n\u001B[0m\u001B[1;32m   1499\u001B[0m \u001B[0;34m\u001B[0m\u001B[0m\n\u001B[1;32m   1500\u001B[0m     \u001B[0;34m@\u001B[0m\u001B[0mproperty\u001B[0m\u001B[0;34m\u001B[0m\u001B[0;34m\u001B[0m\u001B[0m\n",
      "\u001B[0;32m/usr/local/lib/python3.7/dist-packages/chess/__init__.py\u001B[0m in \u001B[0;36mset_fen\u001B[0;34m(self, fen)\u001B[0m\n\u001B[1;32m   2436\u001B[0m         \u001B[0;32melse\u001B[0m\u001B[0;34m:\u001B[0m\u001B[0;34m\u001B[0m\u001B[0;34m\u001B[0m\u001B[0m\n\u001B[1;32m   2437\u001B[0m             \u001B[0;32mtry\u001B[0m\u001B[0;34m:\u001B[0m\u001B[0;34m\u001B[0m\u001B[0;34m\u001B[0m\u001B[0m\n\u001B[0;32m-> 2438\u001B[0;31m                 \u001B[0mfullmove_number\u001B[0m \u001B[0;34m=\u001B[0m \u001B[0mint\u001B[0m\u001B[0;34m(\u001B[0m\u001B[0mfullmove_part\u001B[0m\u001B[0;34m)\u001B[0m\u001B[0;34m\u001B[0m\u001B[0;34m\u001B[0m\u001B[0m\n\u001B[0m\u001B[1;32m   2439\u001B[0m             \u001B[0;32mexcept\u001B[0m \u001B[0mValueError\u001B[0m\u001B[0;34m:\u001B[0m\u001B[0;34m\u001B[0m\u001B[0;34m\u001B[0m\u001B[0m\n\u001B[1;32m   2440\u001B[0m                 \u001B[0;32mraise\u001B[0m \u001B[0mValueError\u001B[0m\u001B[0;34m(\u001B[0m\u001B[0;34mf\"invalid fullmove number in fen: {fen!r}\"\u001B[0m\u001B[0;34m)\u001B[0m\u001B[0;34m\u001B[0m\u001B[0;34m\u001B[0m\u001B[0m\n",
      "\u001B[0;31mKeyboardInterrupt\u001B[0m: "
     ]
    }
   ]
  },
  {
   "cell_type": "code",
   "metadata": {
    "pycharm": {
     "name": "#%%\n",
     "is_executing": true
    },
    "id": "Z52YZ29SGLy2"
   },
   "source": [
    "# redefine X and y as numpy arrays (and reshape X)\n",
    "X = np.array(X).reshape((len(X), 8, 8, 12))\n",
    "y = np.array(y)\n",
    "\n",
    "# del df to save ram\n",
    "del df\n",
    "\n",
    "y.size"
   ],
   "execution_count": null,
   "outputs": []
  },
  {
   "cell_type": "code",
   "metadata": {
    "pycharm": {
     "name": "#%%\n",
     "is_executing": true
    },
    "id": "UxIx0nW3GLy2"
   },
   "source": [
    "# start training\n",
    "# model file name\n",
    "h5 = 'models/model_stockfish.h5'\n",
    "json = 'models/model_stockfish.json'\n",
    "\n",
    "# save the compiled model\n",
    "with open(json, 'w') as f:\n",
    "    f.write(model.to_json())\n",
    "\n",
    "print('model written to json file')\n",
    "\n",
    "# create callbacks\n",
    "checkpoint = keras.callbacks.ModelCheckpoint(h5,\n",
    "                                             monitor='loss',\n",
    "                                             verbose=0,\n",
    "                                             save_best_only=True,\n",
    "                                             save_weights_only=True,\n",
    "                                             mode='auto',\n",
    "                                             save_freq=1)\n",
    "es = keras.callbacks.EarlyStopping(monitor='loss', mode='min', verbose=1, patience=500)\n",
    "\n",
    "# load old model if exists\n",
    "if os.path.exists(h5):\n",
    "  model.load_weights(h5)\n",
    "  print('Imported old model; now continue with training.')\n",
    "\n",
    "# not a 1000 epochs since we want the repository to be automatically pushed back once done with the epochs\n",
    "model.fit(X, y, epochs=150, verbose=2, callbacks=[checkpoint, es])\n",
    "print('done')"
   ],
   "execution_count": null,
   "outputs": []
  },
  {
   "cell_type": "code",
   "metadata": {
    "pycharm": {
     "name": "#%%\n",
     "is_executing": true
    },
    "id": "fhXYvp1nGLy3"
   },
   "source": [
    "# push repository (updated model etc.) back to github\n",
    "%cd /content/{GIT_REPOSITORY}\n",
    "\"\"\"\n",
    "git add -A stages all changes\n",
    "git add . stages new files and modifications, without deletions\n",
    "git add -u stages modifications and deletions, without new files\n",
    "\"\"\"\n",
    "!git status\n",
    "\n",
    "!git add -A\n",
    "\n",
    "!git config --global user.email {GIT_EMAIL}\n",
    "!git config --global user.name {GIT_USERNAME}\n",
    "!git commit -m \"Automatically commit and push through Google Colab!\"\n",
    "\n",
    "!git push"
   ],
   "execution_count": null,
   "outputs": []
  }
 ]
}