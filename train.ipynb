{
 "cells": [
  {
   "cell_type": "code",
   "execution_count": 1,
   "outputs": [
    {
     "name": "stdout",
     "output_type": "stream",
     "text": [
      "^C\n"
     ]
    }
   ],
   "source": [
    "# ensure packages are install\n",
    "!pip install pandas tensorflow numpy chess matplotlib"
   ],
   "metadata": {
    "collapsed": false,
    "pycharm": {
     "name": "#%%\n"
    }
   }
  },
  {
   "cell_type": "code",
   "execution_count": null,
   "outputs": [
    {
     "name": "stderr",
     "output_type": "stream",
     "text": [
      "Ein Unterverzeichnis oder eine Datei mit dem Namen \"data\" existiert bereits.\n"
     ]
    }
   ],
   "source": [
    "# upload the dataset to colab, the path is defined here\n",
    "!mkdir data\n",
    "dataset_path = 'data/games.csv'"
   ],
   "metadata": {
    "collapsed": false,
    "pycharm": {
     "name": "#%%\n",
     "is_executing": true
    }
   }
  },
  {
   "cell_type": "markdown",
   "metadata": {
    "collapsed": true,
    "pycharm": {
     "name": "#%% md\n"
    }
   },
   "source": [
    "trains heuristic chess function on all games that were won by resign or mate"
   ]
  },
  {
   "cell_type": "code",
   "execution_count": null,
   "outputs": [
    {
     "name": "stdout",
     "output_type": "stream",
     "text": [
      "Requirement already satisfied: pandas in d:\\machinelearning\\chessdeeplearning\\venv\\lib\\site-packages (1.2.2)\n",
      "Collecting tensorflow\n",
      "  Using cached tensorflow-2.4.1-cp38-cp38-win_amd64.whl (370.7 MB)\n",
      "Requirement already satisfied: numpy in d:\\machinelearning\\chessdeeplearning\\venv\\lib\\site-packages (1.19.5)\n",
      "Requirement already satisfied: chess in d:\\machinelearning\\chessdeeplearning\\venv\\lib\\site-packages (1.4.0)\n",
      "Requirement already satisfied: matplotlib in d:\\machinelearning\\chessdeeplearning\\venv\\lib\\site-packages (3.3.4)\n",
      "Requirement already satisfied: seaborn in d:\\machinelearning\\chessdeeplearning\\venv\\lib\\site-packages (0.11.1)\n",
      "Requirement already satisfied: cycler>=0.10 in d:\\machinelearning\\chessdeeplearning\\venv\\lib\\site-packages (from matplotlib) (0.10.0)\n",
      "Requirement already satisfied: pyparsing!=2.0.4,!=2.1.2,!=2.1.6,>=2.0.3 in d:\\machinelearning\\chessdeeplearning\\venv\\lib\\site-packages (from matplotlib) (2.4.7)\n",
      "Requirement already satisfied: kiwisolver>=1.0.1 in d:\\machinelearning\\chessdeeplearning\\venv\\lib\\site-packages (from matplotlib) (1.3.1)\n",
      "Requirement already satisfied: pillow>=6.2.0 in d:\\machinelearning\\chessdeeplearning\\venv\\lib\\site-packages (from matplotlib) (8.1.0)\n",
      "Requirement already satisfied: python-dateutil>=2.1 in d:\\machinelearning\\chessdeeplearning\\venv\\lib\\site-packages (from matplotlib) (2.8.1)\n",
      "Requirement already satisfied: six in d:\\machinelearning\\chessdeeplearning\\venv\\lib\\site-packages (from cycler>=0.10->matplotlib) (1.15.0)\n",
      "Requirement already satisfied: pytz>=2017.3 in d:\\machinelearning\\chessdeeplearning\\venv\\lib\\site-packages (from pandas) (2021.1)\n",
      "Requirement already satisfied: scipy>=1.0 in d:\\machinelearning\\chessdeeplearning\\venv\\lib\\site-packages (from seaborn) (1.6.1)\n",
      "Requirement already satisfied: protobuf>=3.9.2 in d:\\machinelearning\\chessdeeplearning\\venv\\lib\\site-packages (from tensorflow) (3.15.1)\n",
      "Requirement already satisfied: tensorboard~=2.4 in d:\\machinelearning\\chessdeeplearning\\venv\\lib\\site-packages (from tensorflow) (2.4.1)\n",
      "Requirement already satisfied: opt-einsum~=3.3.0 in d:\\machinelearning\\chessdeeplearning\\venv\\lib\\site-packages (from tensorflow) (3.3.0)\n",
      "Requirement already satisfied: astunparse~=1.6.3 in d:\\machinelearning\\chessdeeplearning\\venv\\lib\\site-packages (from tensorflow) (1.6.3)\n",
      "Requirement already satisfied: termcolor~=1.1.0 in d:\\machinelearning\\chessdeeplearning\\venv\\lib\\site-packages (from tensorflow) (1.1.0)\n",
      "Requirement already satisfied: google-pasta~=0.2 in d:\\machinelearning\\chessdeeplearning\\venv\\lib\\site-packages (from tensorflow) (0.2.0)\n",
      "Requirement already satisfied: keras-preprocessing~=1.1.2 in d:\\machinelearning\\chessdeeplearning\\venv\\lib\\site-packages (from tensorflow) (1.1.2)\n",
      "Requirement already satisfied: gast==0.3.3 in d:\\machinelearning\\chessdeeplearning\\venv\\lib\\site-packages (from tensorflow) (0.3.3)\n",
      "Requirement already satisfied: absl-py~=0.10 in d:\\machinelearning\\chessdeeplearning\\venv\\lib\\site-packages (from tensorflow) (0.11.0)\n",
      "Requirement already satisfied: tensorflow-estimator<2.5.0,>=2.4.0 in d:\\machinelearning\\chessdeeplearning\\venv\\lib\\site-packages (from tensorflow) (2.4.0)\n",
      "Requirement already satisfied: h5py~=2.10.0 in d:\\machinelearning\\chessdeeplearning\\venv\\lib\\site-packages (from tensorflow) (2.10.0)\n",
      "Requirement already satisfied: flatbuffers~=1.12.0 in d:\\machinelearning\\chessdeeplearning\\venv\\lib\\site-packages (from tensorflow) (1.12)\n",
      "Requirement already satisfied: wheel~=0.35 in d:\\machinelearning\\chessdeeplearning\\venv\\lib\\site-packages (from tensorflow) (0.36.2)\n",
      "Requirement already satisfied: typing-extensions~=3.7.4 in d:\\machinelearning\\chessdeeplearning\\venv\\lib\\site-packages (from tensorflow) (3.7.4.3)\n",
      "Requirement already satisfied: wrapt~=1.12.1 in d:\\machinelearning\\chessdeeplearning\\venv\\lib\\site-packages (from tensorflow) (1.12.1)\n",
      "Requirement already satisfied: grpcio~=1.32.0 in d:\\machinelearning\\chessdeeplearning\\venv\\lib\\site-packages (from tensorflow) (1.32.0)\n",
      "Requirement already satisfied: requests<3,>=2.21.0 in d:\\machinelearning\\chessdeeplearning\\venv\\lib\\site-packages (from tensorboard~=2.4->tensorflow) (2.25.1)\n",
      "Requirement already satisfied: setuptools>=41.0.0 in d:\\machinelearning\\chessdeeplearning\\venv\\lib\\site-packages (from tensorboard~=2.4->tensorflow) (53.0.0)\n",
      "Requirement already satisfied: tensorboard-plugin-wit>=1.6.0 in d:\\machinelearning\\chessdeeplearning\\venv\\lib\\site-packages (from tensorboard~=2.4->tensorflow) (1.8.0)\n",
      "Requirement already satisfied: markdown>=2.6.8 in d:\\machinelearning\\chessdeeplearning\\venv\\lib\\site-packages (from tensorboard~=2.4->tensorflow) (3.3.3)\n",
      "Requirement already satisfied: google-auth-oauthlib<0.5,>=0.4.1 in d:\\machinelearning\\chessdeeplearning\\venv\\lib\\site-packages (from tensorboard~=2.4->tensorflow) (0.4.2)\n",
      "Requirement already satisfied: werkzeug>=0.11.15 in d:\\machinelearning\\chessdeeplearning\\venv\\lib\\site-packages (from tensorboard~=2.4->tensorflow) (1.0.1)\n",
      "Requirement already satisfied: google-auth<2,>=1.6.3 in d:\\machinelearning\\chessdeeplearning\\venv\\lib\\site-packages (from tensorboard~=2.4->tensorflow) (1.27.0)\n",
      "Requirement already satisfied: cachetools<5.0,>=2.0.0 in d:\\machinelearning\\chessdeeplearning\\venv\\lib\\site-packages (from google-auth<2,>=1.6.3->tensorboard~=2.4->tensorflow) (4.2.1)\n",
      "Requirement already satisfied: rsa<5,>=3.1.4 in d:\\machinelearning\\chessdeeplearning\\venv\\lib\\site-packages (from google-auth<2,>=1.6.3->tensorboard~=2.4->tensorflow) (4.7.1)\n",
      "Requirement already satisfied: pyasn1-modules>=0.2.1 in d:\\machinelearning\\chessdeeplearning\\venv\\lib\\site-packages (from google-auth<2,>=1.6.3->tensorboard~=2.4->tensorflow) (0.2.8)\n",
      "Requirement already satisfied: requests-oauthlib>=0.7.0 in d:\\machinelearning\\chessdeeplearning\\venv\\lib\\site-packages (from google-auth-oauthlib<0.5,>=0.4.1->tensorboard~=2.4->tensorflow) (1.3.0)\n",
      "Requirement already satisfied: pyasn1<0.5.0,>=0.4.6 in d:\\machinelearning\\chessdeeplearning\\venv\\lib\\site-packages (from pyasn1-modules>=0.2.1->google-auth<2,>=1.6.3->tensorboard~=2.4->tensorflow) (0.4.8)\n",
      "Requirement already satisfied: idna<3,>=2.5 in d:\\machinelearning\\chessdeeplearning\\venv\\lib\\site-packages (from requests<3,>=2.21.0->tensorboard~=2.4->tensorflow) (2.10)\n",
      "Requirement already satisfied: chardet<5,>=3.0.2 in d:\\machinelearning\\chessdeeplearning\\venv\\lib\\site-packages (from requests<3,>=2.21.0->tensorboard~=2.4->tensorflow) (4.0.0)\n",
      "Requirement already satisfied: urllib3<1.27,>=1.21.1 in d:\\machinelearning\\chessdeeplearning\\venv\\lib\\site-packages (from requests<3,>=2.21.0->tensorboard~=2.4->tensorflow) (1.26.3)\n",
      "Requirement already satisfied: certifi>=2017.4.17 in d:\\machinelearning\\chessdeeplearning\\venv\\lib\\site-packages (from requests<3,>=2.21.0->tensorboard~=2.4->tensorflow) (2020.12.5)\n",
      "Requirement already satisfied: oauthlib>=3.0.0 in d:\\machinelearning\\chessdeeplearning\\venv\\lib\\site-packages (from requests-oauthlib>=0.7.0->google-auth-oauthlib<0.5,>=0.4.1->tensorboard~=2.4->tensorflow) (3.1.0)\n",
      "Installing collected packages: tensorflow\n"
     ]
    },
    {
     "name": "stderr",
     "output_type": "stream",
     "text": [
      "ERROR: Operation cancelled by user\n"
     ]
    }
   ],
   "source": [
    "# make imports\n",
    "import pandas as pd\n",
    "import numpy as np\n",
    "import chess\n",
    "import matplotlib.pyplot as plt\n",
    "from tensorflow import keras\n",
    "import tensorflow as tf\n",
    "\n",
    "from tensorflow.keras.layers import BatchNormalization, Dense, Flatten\n",
    "from tensorflow.keras.layers import Conv2D, MaxPooling2D\n",
    "from tensorflow.keras.models import Sequential"
   ],
   "metadata": {
    "collapsed": false,
    "pycharm": {
     "name": "#%%\n",
     "is_executing": true
    }
   }
  },
  {
   "cell_type": "code",
   "execution_count": null,
   "outputs": [],
   "source": [
    "# ensure tensorflow is imported properly\n",
    "print(tf.__version__)\n",
    "tf.test.is_gpu_available()"
   ],
   "metadata": {
    "collapsed": false,
    "pycharm": {
     "name": "#%%\n",
     "is_executing": true
    }
   }
  },
  {
   "cell_type": "code",
   "execution_count": null,
   "outputs": [],
   "source": [
    "# utility functions for chess\n",
    "chess_dict = {\n",
    "    'p': [1, 0, 0, 0, 0, 0, 0, 0, 0, 0, 0, 0],\n",
    "    'P': [0, 0, 0, 0, 0, 0, 1, 0, 0, 0, 0, 0],\n",
    "    'n': [0, 1, 0, 0, 0, 0, 0, 0, 0, 0, 0, 0],\n",
    "    'N': [0, 0, 0, 0, 0, 0, 0, 1, 0, 0, 0, 0],\n",
    "    'b': [0, 0, 1, 0, 0, 0, 0, 0, 0, 0, 0, 0],\n",
    "    'B': [0, 0, 0, 0, 0, 0, 0, 0, 1, 0, 0, 0],\n",
    "    'r': [0, 0, 0, 1, 0, 0, 0, 0, 0, 0, 0, 0],\n",
    "    'R': [0, 0, 0, 0, 0, 0, 0, 0, 0, 1, 0, 0],\n",
    "    'q': [0, 0, 0, 0, 1, 0, 0, 0, 0, 0, 0, 0],\n",
    "    'Q': [0, 0, 0, 0, 0, 0, 0, 0, 0, 0, 1, 0],\n",
    "    'k': [0, 0, 0, 0, 0, 1, 0, 0, 0, 0, 0, 0],\n",
    "    'K': [0, 0, 0, 0, 0, 0, 0, 0, 0, 0, 0, 1],\n",
    "    '.': [0, 0, 0, 0, 0, 0, 0, 0, 0, 0, 0, 0],\n",
    "}\n",
    "\n",
    "\n",
    "def make_matrix(board):\n",
    "    pgn = board.epd()\n",
    "    foo = []\n",
    "    pieces = pgn.split(\" \", 1)[0]\n",
    "    rows = pieces.split(\"/\")\n",
    "    for row in rows:\n",
    "        foo2 = []\n",
    "        for thing in row:\n",
    "            if thing.isdigit():\n",
    "                for i in range(0, int(thing)):\n",
    "                    foo2.append('.')\n",
    "            else:\n",
    "                foo2.append(thing)\n",
    "        foo.append(foo2)\n",
    "    return foo\n",
    "\n",
    "\n",
    "def translate(matrix):\n",
    "    rows = []\n",
    "    for row in matrix:\n",
    "        terms = []\n",
    "        for term in row:\n",
    "            terms.append(chess_dict[term])\n",
    "        rows.append(terms)\n",
    "    return rows"
   ],
   "metadata": {
    "collapsed": false,
    "pycharm": {
     "name": "#%%\n",
     "is_executing": true
    }
   }
  },
  {
   "cell_type": "code",
   "execution_count": null,
   "outputs": [],
   "source": [
    "# create the model and compile\n",
    "model = Sequential()\n",
    "model.add(Conv2D(filters=64, kernel_size=1, activation='relu', input_shape=(8, 8, 12)))\n",
    "model.add(MaxPooling2D())\n",
    "model.add(Conv2D(filters=24, kernel_size=1, activation='relu'))\n",
    "model.add(MaxPooling2D())\n",
    "model.add(Conv2D(filters=10, kernel_size=1, activation='relu'))\n",
    "model.add(Flatten())\n",
    "model.add(BatchNormalization())\n",
    "model.add(Dense(1, activation='tanh'))\n",
    "\n",
    "model.compile(optimizer='Nadam', loss='mse')"
   ],
   "metadata": {
    "collapsed": false,
    "pycharm": {
     "name": "#%%\n",
     "is_executing": true
    }
   }
  },
  {
   "cell_type": "code",
   "execution_count": null,
   "outputs": [],
   "source": [
    "# read the pandas dataframe and create X and y\n",
    "df = pd.read_csv(dataset_path, sep=';')\n",
    "df = df[df['winner'] != 'draw']\n",
    "df = df[df['victory_status'] != 'outoftime']\n",
    "moves = df['moves'].values\n",
    "winner = df['winner'].values\n",
    "X = []\n",
    "y = []"
   ],
   "metadata": {
    "collapsed": false,
    "pycharm": {
     "name": "#%%\n",
     "is_executing": true
    }
   }
  },
  {
   "cell_type": "code",
   "execution_count": null,
   "outputs": [],
   "source": [
    "\n",
    "# create dataset\n",
    "index = 0\n",
    "for game in moves:\n",
    "    all_moves = game.split()\n",
    "    total_moves = len(all_moves)\n",
    "    if winner[index] == 'black':\n",
    "        game_winner = -1\n",
    "    else:\n",
    "        game_winner = 1\n",
    "\n",
    "    board = chess.Board()\n",
    "    for i in range(len(all_moves)):\n",
    "        board.push_san(all_moves[i])\n",
    "        value = game_winner * (i / total_moves)\n",
    "        matrix = make_matrix(board.copy())\n",
    "        rows = translate(matrix)\n",
    "        X.append([rows])\n",
    "        y.append(value)\n",
    "\n",
    "    index += 1"
   ],
   "metadata": {
    "collapsed": false,
    "pycharm": {
     "name": "#%%\n",
     "is_executing": true
    }
   }
  },
  {
   "cell_type": "code",
   "execution_count": null,
   "outputs": [],
   "source": [
    "# redefine X and y as numpy arrays (and reshape X)\n",
    "X = np.array(X).reshape((len(X), 8, 8, 12))\n",
    "y = np.array(y)"
   ],
   "metadata": {
    "collapsed": false,
    "pycharm": {
     "name": "#%%\n",
     "is_executing": true
    }
   }
  },
  {
   "cell_type": "code",
   "execution_count": null,
   "outputs": [],
   "source": [
    "# start training\n",
    "# set name of files\n",
    "h5 = 'model.h5'\n",
    "json = 'model.json'\n",
    "\n",
    "# create callbacks\n",
    "checkpoint = keras.callbacks.ModelCheckpoint(h5,\n",
    "                                             monitor='loss',\n",
    "                                             verbose=0,\n",
    "                                             save_best_only=True,\n",
    "                                             save_weights_only=True,\n",
    "                                             mode='auto',\n",
    "                                             period=1)\n",
    "es = keras.callbacks.EarlyStopping(monitor='loss', mode='min', verbose=1, patience=500)\n",
    "callback = [checkpoint, es]\n",
    "model_json = model.to_json()\n",
    "\n",
    "with open(json, \"w\") as json_file:\n",
    "    json_file.write(model_json)\n",
    "\n",
    "history = model.fit(X, y, epochs=1000, verbose=2, callbacks=callback)\n",
    "\n",
    "# plot history\n",
    "plt.plot(history.history['loss'])"
   ],
   "metadata": {
    "collapsed": false,
    "pycharm": {
     "name": "#%%\n",
     "is_executing": true
    }
   }
  },
  {
   "cell_type": "code",
   "execution_count": null,
   "outputs": [],
   "source": [
    "# convert model to tensorflow lite (optionally)\n",
    "converter = tf.lite.TFLiteConverter.from_keras_model(model)\n",
    "tf_model = converter.convert()\n",
    "open(\"model.tflite\", \"wb\").write(tf_model)"
   ],
   "metadata": {
    "collapsed": false,
    "pycharm": {
     "name": "#%%\n",
     "is_executing": true
    }
   }
  }
 ],
 "metadata": {
  "kernelspec": {
   "display_name": "Python 3",
   "language": "python",
   "name": "python3"
  },
  "language_info": {
   "codemirror_mode": {
    "name": "ipython",
    "version": 2
   },
   "file_extension": ".py",
   "mimetype": "text/x-python",
   "name": "python",
   "nbconvert_exporter": "python",
   "pygments_lexer": "ipython2",
   "version": "2.7.6"
  }
 },
 "nbformat": 4,
 "nbformat_minor": 0
}