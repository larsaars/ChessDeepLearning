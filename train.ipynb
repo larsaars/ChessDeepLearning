{
  "nbformat": 4,
  "nbformat_minor": 0,
  "metadata": {
    "kernelspec": {
      "display_name": "Python 3",
      "language": "python",
      "name": "python3"
    },
    "language_info": {
      "codemirror_mode": {
        "name": "ipython",
        "version": 2
      },
      "file_extension": ".py",
      "mimetype": "text/x-python",
      "name": "python",
      "nbconvert_exporter": "python",
      "pygments_lexer": "ipython2",
      "version": "2.7.6"
    },
    "colab": {
      "name": "train.ipynb",
      "provenance": []
    },
    "accelerator": "GPU"
  },
  "cells": [
    {
      "cell_type": "code",
      "metadata": {
        "pycharm": {
          "name": "#%%\n"
        },
        "colab": {
          "base_uri": "https://localhost:8080/"
        },
        "id": "yEln7vYTGLyu",
        "outputId": "463f54c2-277d-411e-aa1a-2161c27a5806"
      },
      "source": [
        "# ensure packages are installed, uninstall normal tensorflow and ensure gpu can be used\n",
        "!pip install -qU chess"
      ],
      "execution_count": 1,
      "outputs": [
        {
          "output_type": "stream",
          "text": [
            "\u001b[?25l\r\u001b[K     |██▎                             | 10kB 22.4MB/s eta 0:00:01\r\u001b[K     |████▋                           | 20kB 26.8MB/s eta 0:00:01\r\u001b[K     |███████                         | 30kB 30.7MB/s eta 0:00:01\r\u001b[K     |█████████▎                      | 40kB 34.2MB/s eta 0:00:01\r\u001b[K     |███████████▋                    | 51kB 35.9MB/s eta 0:00:01\r\u001b[K     |██████████████                  | 61kB 38.0MB/s eta 0:00:01\r\u001b[K     |████████████████▎               | 71kB 22.7MB/s eta 0:00:01\r\u001b[K     |██████████████████▌             | 81kB 21.0MB/s eta 0:00:01\r\u001b[K     |████████████████████▉           | 92kB 21.2MB/s eta 0:00:01\r\u001b[K     |███████████████████████▏        | 102kB 22.6MB/s eta 0:00:01\r\u001b[K     |█████████████████████████▌      | 112kB 22.6MB/s eta 0:00:01\r\u001b[K     |███████████████████████████▉    | 122kB 22.6MB/s eta 0:00:01\r\u001b[K     |██████████████████████████████▏ | 133kB 22.6MB/s eta 0:00:01\r\u001b[K     |████████████████████████████████| 143kB 22.6MB/s \n",
            "\u001b[?25h"
          ],
          "name": "stdout"
        }
      ]
    },
    {
      "cell_type": "code",
      "metadata": {
        "pycharm": {
          "name": "#%%\n"
        },
        "colab": {
          "base_uri": "https://localhost:8080/"
        },
        "id": "oez7luTYbdCc",
        "outputId": "ba99cb4c-56d6-4214-e97c-4e3c5fbf169c"
      },
      "source": [
        "import getpass  # For hiding token input\n",
        "\n",
        "# input forms for GitHub username, email address and token\n",
        "GIT_USERNAME = input(\"\\nEnter GitHub user name: \").strip()\n",
        "GIT_EMAIL = input(\"\\nEnter GitHub email address: \").strip()\n",
        "GIT_TOKEN = getpass.getpass(\"\\nEnter GitHub token: \").strip()"
      ],
      "execution_count": 2,
      "outputs": [
        {
          "output_type": "stream",
          "text": [
            "\n",
            "Enter GitHub user name: larsaars\n",
            "\n",
            "Enter GitHub email address: lars.lars.specht@gmail.com\n",
            "\n",
            "Enter GitHub token: ··········\n"
          ],
          "name": "stdout"
        }
      ]
    },
    {
      "cell_type": "code",
      "metadata": {
        "pycharm": {
          "name": "#%%\n"
        },
        "colab": {
          "base_uri": "https://localhost:8080/"
        },
        "id": "7lKGmlxzbdCd",
        "outputId": "f92f41bf-67f0-4097-96fd-f4d6cd9a8f4d"
      },
      "source": [
        "import os\n",
        "\n",
        "%cd /content/\n",
        "\n",
        "# Clean sample_data\n",
        "sd = 'sample_data'\n",
        "if os.path.exists(sd):\n",
        "  print(f\"removing {sd}!\")\n",
        "  !rm -rf {sd}\n",
        "\n",
        "# GitHub repository name\n",
        "GIT_REPOSITORY = 'chess_heuristics_deep_learning'\n",
        "\n",
        "# Path to GitHub repository\n",
        "GIT_PATH = 'https://' + GIT_TOKEN + '@github.com/' + GIT_USERNAME + '/' + GIT_REPOSITORY + '.git'\n",
        "\n",
        "# Clone or pull git repository\n",
        "if not os.path.exists(GIT_REPOSITORY):\n",
        "  # Clone the github repository\n",
        "  !git clone {GIT_PATH}\n",
        "else:\n",
        "  # else pull the github repository\n",
        "  %cd /content/{GIT_REPOSITORY}\n",
        "  !git pull {GIT_PATH}\n",
        "\n",
        "%cd /content/{GIT_REPOSITORY}\n",
        "print(\"\\nDone.\")"
      ],
      "execution_count": 3,
      "outputs": [
        {
          "output_type": "stream",
          "text": [
            "/content\n",
            "removing sample_data!\n",
            "Cloning into 'chess_heuristics_deep_learning'...\n",
            "remote: Enumerating objects: 109, done.\u001b[K\n",
            "remote: Counting objects: 100% (109/109), done.\u001b[K\n",
            "remote: Compressing objects: 100% (76/76), done.\u001b[K\n",
            "remote: Total 109 (delta 50), reused 77 (delta 27), pack-reused 0\u001b[K\n",
            "Receiving objects: 100% (109/109), 2.01 MiB | 21.94 MiB/s, done.\n",
            "Resolving deltas: 100% (50/50), done.\n",
            "/content/chess_heuristics_deep_learning\n",
            "\n",
            "Done.\n"
          ],
          "name": "stdout"
        }
      ]
    },
    {
      "cell_type": "code",
      "metadata": {
        "pycharm": {
          "name": "#%%\n",
          "is_executing": true
        },
        "id": "k0_pC69SGLyv"
      },
      "source": [
        "# upload the dataset to colab, the path is defined here\n",
        "dataset_path = 'data/games.csv'"
      ],
      "execution_count": 4,
      "outputs": []
    },
    {
      "cell_type": "code",
      "metadata": {
        "pycharm": {
          "name": "#%%\n",
          "is_executing": true
        },
        "id": "uhsQUSZMGLyy"
      },
      "source": [
        "# make imports\n",
        "import pandas as pd\n",
        "import numpy as np\n",
        "import chess\n",
        "from tensorflow import keras\n",
        "import tensorflow as tf\n",
        "\n",
        "from tensorflow.keras.layers import BatchNormalization, Dense, Flatten\n",
        "from tensorflow.keras.layers import Conv2D, MaxPooling2D\n",
        "from tensorflow.keras.models import Sequential"
      ],
      "execution_count": 5,
      "outputs": []
    },
    {
      "cell_type": "code",
      "metadata": {
        "pycharm": {
          "name": "#%%\n",
          "is_executing": true
        },
        "colab": {
          "base_uri": "https://localhost:8080/"
        },
        "id": "QeukAZX9GLyz",
        "outputId": "83ee4403-48a5-4d6d-ffd7-25d8c77ff2da"
      },
      "source": [
        "# ensure tensorflow is imported properly\n",
        "print(tf.__version__)\n",
        "tf.config.list_physical_devices('GPU')"
      ],
      "execution_count": 6,
      "outputs": [
        {
          "output_type": "stream",
          "text": [
            "2.4.1\n"
          ],
          "name": "stdout"
        },
        {
          "output_type": "execute_result",
          "data": {
            "text/plain": [
              "[PhysicalDevice(name='/physical_device:GPU:0', device_type='GPU')]"
            ]
          },
          "metadata": {
            "tags": []
          },
          "execution_count": 6
        }
      ]
    },
    {
      "cell_type": "code",
      "metadata": {
        "pycharm": {
          "name": "#%%\n",
          "is_executing": true
        },
        "id": "lQWwVDnyGLyz"
      },
      "source": [
        "# utility functions for chess\n",
        "chess_dict = {\n",
        "    'p': [1, 0, 0, 0, 0, 0, 0, 0, 0, 0, 0, 0],\n",
        "    'P': [0, 0, 0, 0, 0, 0, 1, 0, 0, 0, 0, 0],\n",
        "    'n': [0, 1, 0, 0, 0, 0, 0, 0, 0, 0, 0, 0],\n",
        "    'N': [0, 0, 0, 0, 0, 0, 0, 1, 0, 0, 0, 0],\n",
        "    'b': [0, 0, 1, 0, 0, 0, 0, 0, 0, 0, 0, 0],\n",
        "    'B': [0, 0, 0, 0, 0, 0, 0, 0, 1, 0, 0, 0],\n",
        "    'r': [0, 0, 0, 1, 0, 0, 0, 0, 0, 0, 0, 0],\n",
        "    'R': [0, 0, 0, 0, 0, 0, 0, 0, 0, 1, 0, 0],\n",
        "    'q': [0, 0, 0, 0, 1, 0, 0, 0, 0, 0, 0, 0],\n",
        "    'Q': [0, 0, 0, 0, 0, 0, 0, 0, 0, 0, 1, 0],\n",
        "    'k': [0, 0, 0, 0, 0, 1, 0, 0, 0, 0, 0, 0],\n",
        "    'K': [0, 0, 0, 0, 0, 0, 0, 0, 0, 0, 0, 1],\n",
        "    '.': [0, 0, 0, 0, 0, 0, 0, 0, 0, 0, 0, 0],\n",
        "}\n",
        "\n",
        "\n",
        "def make_matrix(board):\n",
        "    pgn = board.epd()\n",
        "    foo = []\n",
        "    pieces = pgn.split(\" \", 1)[0]\n",
        "    rows = pieces.split(\"/\")\n",
        "    for row in rows:\n",
        "        foo2 = []\n",
        "        for thing in row:\n",
        "            if thing.isdigit():\n",
        "                for i in range(0, int(thing)):\n",
        "                    foo2.append('.')\n",
        "            else:\n",
        "                foo2.append(thing)\n",
        "        foo.append(foo2)\n",
        "    return foo\n",
        "\n",
        "\n",
        "def translate(matrix):\n",
        "    rows = []\n",
        "    for row in matrix:\n",
        "        terms = []\n",
        "        for term in row:\n",
        "            terms.append(chess_dict[term])\n",
        "        rows.append(terms)\n",
        "    return rows"
      ],
      "execution_count": 7,
      "outputs": []
    },
    {
      "cell_type": "code",
      "metadata": {
        "pycharm": {
          "name": "#%%\n",
          "is_executing": true
        },
        "id": "Pm24i0cjGLyz"
      },
      "source": [
        "# create the model and compile\n",
        "model = Sequential()\n",
        "model.add(Conv2D(filters=64, kernel_size=1, activation='relu', input_shape=(8, 8, 12)))\n",
        "model.add(MaxPooling2D())\n",
        "model.add(Conv2D(filters=24, kernel_size=1, activation='relu'))\n",
        "model.add(MaxPooling2D())\n",
        "model.add(Conv2D(filters=10, kernel_size=1, activation='relu'))\n",
        "model.add(Flatten())\n",
        "model.add(BatchNormalization())\n",
        "model.add(Dense(1, activation='tanh'))\n",
        "\n",
        "model.compile(optimizer='Nadam', loss='mse')"
      ],
      "execution_count": 8,
      "outputs": []
    },
    {
      "cell_type": "code",
      "metadata": {
        "pycharm": {
          "name": "#%%\n",
          "is_executing": true
        },
        "id": "c40oSurDGLy0"
      },
      "source": [
        "# read the pandas dataframe and create X and y\n",
        "df = pd.read_csv(dataset_path, sep=';')\n",
        "df = df[df['winner'] != 'draw']\n",
        "df = df[df['victory_status'] != 'outoftime']\n",
        "moves = df['moves'].values\n",
        "winner = df['winner'].values\n",
        "X = []\n",
        "y = []"
      ],
      "execution_count": 9,
      "outputs": []
    },
    {
      "cell_type": "code",
      "metadata": {
        "pycharm": {
          "name": "#%%\n",
          "is_executing": true
        },
        "id": "yHfRLd2wGLy1"
      },
      "source": [
        "\n",
        "# create dataset\n",
        "index = 0\n",
        "for game in moves:\n",
        "    all_moves = game.split()\n",
        "    total_moves = len(all_moves)\n",
        "    if winner[index] == 'black':\n",
        "        game_winner = -1\n",
        "    else:\n",
        "        game_winner = 1\n",
        "\n",
        "    board = chess.Board()\n",
        "    for i in range(len(all_moves)):\n",
        "        board.push_san(all_moves[i])\n",
        "        value = game_winner * (i / total_moves)\n",
        "        matrix = make_matrix(board.copy())\n",
        "        rows = translate(matrix)\n",
        "        X.append([rows])\n",
        "        y.append(value)\n",
        "\n",
        "    index += 1"
      ],
      "execution_count": 10,
      "outputs": []
    },
    {
      "cell_type": "code",
      "metadata": {
        "pycharm": {
          "name": "#%%\n",
          "is_executing": true
        },
        "id": "Z52YZ29SGLy2"
      },
      "source": [
        "# redefine X and y as numpy arrays (and reshape X)\n",
        "X = np.array(X).reshape((len(X), 8, 8, 12))\n",
        "y = np.array(y)"
      ],
      "execution_count": 11,
      "outputs": []
    },
    {
      "cell_type": "code",
      "metadata": {
        "pycharm": {
          "name": "#%%\n",
          "is_executing": true
        },
        "colab": {
          "base_uri": "https://localhost:8080/",
          "height": 1000
        },
        "id": "UxIx0nW3GLy2",
        "outputId": "22b6490d-07b2-4e0b-f15a-2f117ffb7dbe"
      },
      "source": [
        "# start training\n",
        "# model file name\n",
        "h5 = 'model.h5'\n",
        "\n",
        "# create callbacks\n",
        "checkpoint = keras.callbacks.ModelCheckpoint(h5,\n",
        "                                             monitor='loss',\n",
        "                                             verbose=0,\n",
        "                                             save_best_only=True,\n",
        "                                             save_weights_only=True,\n",
        "                                             mode='auto',\n",
        "                                             save_freq=1)\n",
        "es = keras.callbacks.EarlyStopping(monitor='loss', mode='min', verbose=1, patience=500)\n",
        "\n",
        "# load old model if exists\n",
        "if os.path.exists(h5):\n",
        "  model.load_weights(h5)\n",
        "  print('Imported old model; now continue with training.')\n",
        "\n",
        "# not a 1000 epochs since we want the repository to be automatically pushed back once done with the epochs\n",
        "model.fit(X, y, epochs=250, verbose=2, callbacks=[checkpoint, es])\n",
        "print('done')"
      ],
      "execution_count": 12,
      "outputs": [
        {
          "output_type": "stream",
          "text": [
            "Imported old model; now continue with training.\n",
            "Epoch 1/250\n",
            "31710/31710 - 115s - loss: 0.2386\n",
            "Epoch 2/250\n",
            "31710/31710 - 107s - loss: 0.2371\n",
            "Epoch 3/250\n",
            "31710/31710 - 106s - loss: 0.2365\n",
            "Epoch 4/250\n",
            "31710/31710 - 106s - loss: 0.2359\n",
            "Epoch 5/250\n",
            "31710/31710 - 106s - loss: 0.2358\n",
            "Epoch 6/250\n",
            "31710/31710 - 106s - loss: 0.2353\n",
            "Epoch 7/250\n",
            "31710/31710 - 106s - loss: 0.2350\n",
            "Epoch 8/250\n",
            "31710/31710 - 106s - loss: 0.2348\n",
            "Epoch 9/250\n",
            "31710/31710 - 105s - loss: 0.2348\n",
            "Epoch 10/250\n",
            "31710/31710 - 106s - loss: 0.2346\n",
            "Epoch 11/250\n",
            "31710/31710 - 106s - loss: 0.2346\n",
            "Epoch 12/250\n",
            "31710/31710 - 105s - loss: 0.2344\n",
            "Epoch 13/250\n",
            "31710/31710 - 106s - loss: 0.2342\n",
            "Epoch 14/250\n",
            "31710/31710 - 105s - loss: 0.2342\n",
            "Epoch 15/250\n",
            "31710/31710 - 105s - loss: 0.2341\n",
            "Epoch 16/250\n",
            "31710/31710 - 105s - loss: 0.2339\n",
            "Epoch 17/250\n",
            "31710/31710 - 105s - loss: 0.2340\n",
            "Epoch 18/250\n",
            "31710/31710 - 105s - loss: 0.2338\n",
            "Epoch 19/250\n",
            "31710/31710 - 105s - loss: 0.2337\n",
            "Epoch 20/250\n",
            "31710/31710 - 106s - loss: 0.2335\n",
            "Epoch 21/250\n",
            "31710/31710 - 106s - loss: 0.2335\n",
            "Epoch 22/250\n",
            "31710/31710 - 106s - loss: 0.2334\n",
            "Epoch 23/250\n",
            "31710/31710 - 106s - loss: 0.2335\n",
            "Epoch 24/250\n",
            "31710/31710 - 106s - loss: 0.2334\n",
            "Epoch 25/250\n",
            "31710/31710 - 106s - loss: 0.2334\n",
            "Epoch 26/250\n",
            "31710/31710 - 106s - loss: 0.2335\n",
            "Epoch 27/250\n",
            "31710/31710 - 106s - loss: 0.2334\n",
            "Epoch 28/250\n",
            "31710/31710 - 106s - loss: 0.2331\n",
            "Epoch 29/250\n",
            "31710/31710 - 106s - loss: 0.2333\n",
            "Epoch 30/250\n",
            "31710/31710 - 106s - loss: 0.2331\n",
            "Epoch 31/250\n",
            "31710/31710 - 106s - loss: 0.2333\n",
            "Epoch 32/250\n",
            "31710/31710 - 106s - loss: 0.2330\n",
            "Epoch 33/250\n",
            "31710/31710 - 106s - loss: 0.2330\n",
            "Epoch 34/250\n",
            "31710/31710 - 106s - loss: 0.2329\n",
            "Epoch 35/250\n",
            "31710/31710 - 105s - loss: 0.2331\n",
            "Epoch 36/250\n",
            "31710/31710 - 105s - loss: 0.2331\n",
            "Epoch 37/250\n",
            "31710/31710 - 106s - loss: 0.2330\n",
            "Epoch 38/250\n",
            "31710/31710 - 105s - loss: 0.2329\n",
            "Epoch 39/250\n",
            "31710/31710 - 105s - loss: 0.2328\n",
            "Epoch 40/250\n",
            "31710/31710 - 105s - loss: 0.2326\n",
            "Epoch 41/250\n",
            "31710/31710 - 105s - loss: 0.2328\n",
            "Epoch 42/250\n",
            "31710/31710 - 105s - loss: 0.2327\n",
            "Epoch 43/250\n",
            "31710/31710 - 105s - loss: 0.2328\n",
            "Epoch 44/250\n",
            "31710/31710 - 104s - loss: 0.2328\n",
            "Epoch 45/250\n",
            "31710/31710 - 105s - loss: 0.2328\n",
            "Epoch 46/250\n",
            "31710/31710 - 105s - loss: 0.2328\n",
            "Epoch 47/250\n",
            "31710/31710 - 104s - loss: 0.2328\n",
            "Epoch 48/250\n",
            "31710/31710 - 105s - loss: 0.2326\n",
            "Epoch 49/250\n",
            "31710/31710 - 105s - loss: 0.2326\n",
            "Epoch 50/250\n",
            "31710/31710 - 105s - loss: 0.2325\n",
            "Epoch 51/250\n",
            "31710/31710 - 104s - loss: 0.2327\n",
            "Epoch 52/250\n",
            "31710/31710 - 105s - loss: 0.2326\n",
            "Epoch 53/250\n",
            "31710/31710 - 104s - loss: 0.2327\n",
            "Epoch 54/250\n",
            "31710/31710 - 104s - loss: 0.2325\n",
            "Epoch 55/250\n",
            "31710/31710 - 105s - loss: 0.2324\n",
            "Epoch 56/250\n",
            "31710/31710 - 104s - loss: 0.2324\n",
            "Epoch 57/250\n",
            "31710/31710 - 104s - loss: 0.2325\n",
            "Epoch 58/250\n",
            "31710/31710 - 105s - loss: 0.2324\n",
            "Epoch 59/250\n",
            "31710/31710 - 104s - loss: 0.2326\n",
            "Epoch 60/250\n",
            "31710/31710 - 104s - loss: 0.2324\n",
            "Epoch 61/250\n",
            "31710/31710 - 105s - loss: 0.2324\n",
            "Epoch 62/250\n",
            "31710/31710 - 105s - loss: 0.2322\n",
            "Epoch 63/250\n",
            "31710/31710 - 104s - loss: 0.2323\n",
            "Epoch 64/250\n",
            "31710/31710 - 105s - loss: 0.2323\n",
            "Epoch 65/250\n",
            "31710/31710 - 105s - loss: 0.2325\n",
            "Epoch 66/250\n",
            "31710/31710 - 104s - loss: 0.2324\n",
            "Epoch 67/250\n",
            "31710/31710 - 105s - loss: 0.2322\n",
            "Epoch 68/250\n",
            "31710/31710 - 105s - loss: 0.2323\n",
            "Epoch 69/250\n",
            "31710/31710 - 105s - loss: 0.2324\n",
            "Epoch 70/250\n",
            "31710/31710 - 105s - loss: 0.2322\n",
            "Epoch 71/250\n",
            "31710/31710 - 105s - loss: 0.2321\n",
            "Epoch 72/250\n",
            "31710/31710 - 105s - loss: 0.2323\n",
            "Epoch 73/250\n",
            "31710/31710 - 104s - loss: 0.2323\n",
            "Epoch 74/250\n",
            "31710/31710 - 104s - loss: 0.2322\n",
            "Epoch 75/250\n",
            "31710/31710 - 104s - loss: 0.2322\n",
            "Epoch 76/250\n",
            "31710/31710 - 104s - loss: 0.2321\n",
            "Epoch 77/250\n",
            "31710/31710 - 104s - loss: 0.2321\n",
            "Epoch 78/250\n",
            "31710/31710 - 104s - loss: 0.2321\n",
            "Epoch 79/250\n",
            "31710/31710 - 105s - loss: 0.2321\n",
            "Epoch 80/250\n",
            "31710/31710 - 104s - loss: 0.2321\n",
            "Epoch 81/250\n",
            "31710/31710 - 104s - loss: 0.2323\n",
            "Epoch 82/250\n"
          ],
          "name": "stdout"
        },
        {
          "output_type": "error",
          "ename": "KeyboardInterrupt",
          "evalue": "ignored",
          "traceback": [
            "\u001b[0;31m---------------------------------------------------------------------------\u001b[0m",
            "\u001b[0;31mKeyboardInterrupt\u001b[0m                         Traceback (most recent call last)",
            "\u001b[0;32m<ipython-input-12-e6316919b05e>\u001b[0m in \u001b[0;36m<module>\u001b[0;34m()\u001b[0m\n\u001b[1;32m     19\u001b[0m \u001b[0;34m\u001b[0m\u001b[0m\n\u001b[1;32m     20\u001b[0m \u001b[0;31m# not a 1000 epochs since we want the repository to be automatically pushed back once done with the epochs\u001b[0m\u001b[0;34m\u001b[0m\u001b[0;34m\u001b[0m\u001b[0;34m\u001b[0m\u001b[0m\n\u001b[0;32m---> 21\u001b[0;31m \u001b[0mmodel\u001b[0m\u001b[0;34m.\u001b[0m\u001b[0mfit\u001b[0m\u001b[0;34m(\u001b[0m\u001b[0mX\u001b[0m\u001b[0;34m,\u001b[0m \u001b[0my\u001b[0m\u001b[0;34m,\u001b[0m \u001b[0mepochs\u001b[0m\u001b[0;34m=\u001b[0m\u001b[0;36m250\u001b[0m\u001b[0;34m,\u001b[0m \u001b[0mverbose\u001b[0m\u001b[0;34m=\u001b[0m\u001b[0;36m2\u001b[0m\u001b[0;34m,\u001b[0m \u001b[0mcallbacks\u001b[0m\u001b[0;34m=\u001b[0m\u001b[0;34m[\u001b[0m\u001b[0mcheckpoint\u001b[0m\u001b[0;34m,\u001b[0m \u001b[0mes\u001b[0m\u001b[0;34m]\u001b[0m\u001b[0;34m)\u001b[0m\u001b[0;34m\u001b[0m\u001b[0;34m\u001b[0m\u001b[0m\n\u001b[0m\u001b[1;32m     22\u001b[0m \u001b[0mprint\u001b[0m\u001b[0;34m(\u001b[0m\u001b[0;34m'done'\u001b[0m\u001b[0;34m)\u001b[0m\u001b[0;34m\u001b[0m\u001b[0;34m\u001b[0m\u001b[0m\n",
            "\u001b[0;32m/usr/local/lib/python3.7/dist-packages/tensorflow/python/keras/engine/training.py\u001b[0m in \u001b[0;36mfit\u001b[0;34m(self, x, y, batch_size, epochs, verbose, callbacks, validation_split, validation_data, shuffle, class_weight, sample_weight, initial_epoch, steps_per_epoch, validation_steps, validation_batch_size, validation_freq, max_queue_size, workers, use_multiprocessing)\u001b[0m\n\u001b[1;32m   1098\u001b[0m                 _r=1):\n\u001b[1;32m   1099\u001b[0m               \u001b[0mcallbacks\u001b[0m\u001b[0;34m.\u001b[0m\u001b[0mon_train_batch_begin\u001b[0m\u001b[0;34m(\u001b[0m\u001b[0mstep\u001b[0m\u001b[0;34m)\u001b[0m\u001b[0;34m\u001b[0m\u001b[0;34m\u001b[0m\u001b[0m\n\u001b[0;32m-> 1100\u001b[0;31m               \u001b[0mtmp_logs\u001b[0m \u001b[0;34m=\u001b[0m \u001b[0mself\u001b[0m\u001b[0;34m.\u001b[0m\u001b[0mtrain_function\u001b[0m\u001b[0;34m(\u001b[0m\u001b[0miterator\u001b[0m\u001b[0;34m)\u001b[0m\u001b[0;34m\u001b[0m\u001b[0;34m\u001b[0m\u001b[0m\n\u001b[0m\u001b[1;32m   1101\u001b[0m               \u001b[0;32mif\u001b[0m \u001b[0mdata_handler\u001b[0m\u001b[0;34m.\u001b[0m\u001b[0mshould_sync\u001b[0m\u001b[0;34m:\u001b[0m\u001b[0;34m\u001b[0m\u001b[0;34m\u001b[0m\u001b[0m\n\u001b[1;32m   1102\u001b[0m                 \u001b[0mcontext\u001b[0m\u001b[0;34m.\u001b[0m\u001b[0masync_wait\u001b[0m\u001b[0;34m(\u001b[0m\u001b[0;34m)\u001b[0m\u001b[0;34m\u001b[0m\u001b[0;34m\u001b[0m\u001b[0m\n",
            "\u001b[0;32m/usr/local/lib/python3.7/dist-packages/tensorflow/python/eager/def_function.py\u001b[0m in \u001b[0;36m__call__\u001b[0;34m(self, *args, **kwds)\u001b[0m\n\u001b[1;32m    826\u001b[0m     \u001b[0mtracing_count\u001b[0m \u001b[0;34m=\u001b[0m \u001b[0mself\u001b[0m\u001b[0;34m.\u001b[0m\u001b[0mexperimental_get_tracing_count\u001b[0m\u001b[0;34m(\u001b[0m\u001b[0;34m)\u001b[0m\u001b[0;34m\u001b[0m\u001b[0;34m\u001b[0m\u001b[0m\n\u001b[1;32m    827\u001b[0m     \u001b[0;32mwith\u001b[0m \u001b[0mtrace\u001b[0m\u001b[0;34m.\u001b[0m\u001b[0mTrace\u001b[0m\u001b[0;34m(\u001b[0m\u001b[0mself\u001b[0m\u001b[0;34m.\u001b[0m\u001b[0m_name\u001b[0m\u001b[0;34m)\u001b[0m \u001b[0;32mas\u001b[0m \u001b[0mtm\u001b[0m\u001b[0;34m:\u001b[0m\u001b[0;34m\u001b[0m\u001b[0;34m\u001b[0m\u001b[0m\n\u001b[0;32m--> 828\u001b[0;31m       \u001b[0mresult\u001b[0m \u001b[0;34m=\u001b[0m \u001b[0mself\u001b[0m\u001b[0;34m.\u001b[0m\u001b[0m_call\u001b[0m\u001b[0;34m(\u001b[0m\u001b[0;34m*\u001b[0m\u001b[0margs\u001b[0m\u001b[0;34m,\u001b[0m \u001b[0;34m**\u001b[0m\u001b[0mkwds\u001b[0m\u001b[0;34m)\u001b[0m\u001b[0;34m\u001b[0m\u001b[0;34m\u001b[0m\u001b[0m\n\u001b[0m\u001b[1;32m    829\u001b[0m       \u001b[0mcompiler\u001b[0m \u001b[0;34m=\u001b[0m \u001b[0;34m\"xla\"\u001b[0m \u001b[0;32mif\u001b[0m \u001b[0mself\u001b[0m\u001b[0;34m.\u001b[0m\u001b[0m_experimental_compile\u001b[0m \u001b[0;32melse\u001b[0m \u001b[0;34m\"nonXla\"\u001b[0m\u001b[0;34m\u001b[0m\u001b[0;34m\u001b[0m\u001b[0m\n\u001b[1;32m    830\u001b[0m       \u001b[0mnew_tracing_count\u001b[0m \u001b[0;34m=\u001b[0m \u001b[0mself\u001b[0m\u001b[0;34m.\u001b[0m\u001b[0mexperimental_get_tracing_count\u001b[0m\u001b[0;34m(\u001b[0m\u001b[0;34m)\u001b[0m\u001b[0;34m\u001b[0m\u001b[0;34m\u001b[0m\u001b[0m\n",
            "\u001b[0;32m/usr/local/lib/python3.7/dist-packages/tensorflow/python/eager/def_function.py\u001b[0m in \u001b[0;36m_call\u001b[0;34m(self, *args, **kwds)\u001b[0m\n\u001b[1;32m    853\u001b[0m       \u001b[0;31m# In this case we have created variables on the first call, so we run the\u001b[0m\u001b[0;34m\u001b[0m\u001b[0;34m\u001b[0m\u001b[0;34m\u001b[0m\u001b[0m\n\u001b[1;32m    854\u001b[0m       \u001b[0;31m# defunned version which is guaranteed to never create variables.\u001b[0m\u001b[0;34m\u001b[0m\u001b[0;34m\u001b[0m\u001b[0;34m\u001b[0m\u001b[0m\n\u001b[0;32m--> 855\u001b[0;31m       \u001b[0;32mreturn\u001b[0m \u001b[0mself\u001b[0m\u001b[0;34m.\u001b[0m\u001b[0m_stateless_fn\u001b[0m\u001b[0;34m(\u001b[0m\u001b[0;34m*\u001b[0m\u001b[0margs\u001b[0m\u001b[0;34m,\u001b[0m \u001b[0;34m**\u001b[0m\u001b[0mkwds\u001b[0m\u001b[0;34m)\u001b[0m  \u001b[0;31m# pylint: disable=not-callable\u001b[0m\u001b[0;34m\u001b[0m\u001b[0;34m\u001b[0m\u001b[0m\n\u001b[0m\u001b[1;32m    856\u001b[0m     \u001b[0;32melif\u001b[0m \u001b[0mself\u001b[0m\u001b[0;34m.\u001b[0m\u001b[0m_stateful_fn\u001b[0m \u001b[0;32mis\u001b[0m \u001b[0;32mnot\u001b[0m \u001b[0;32mNone\u001b[0m\u001b[0;34m:\u001b[0m\u001b[0;34m\u001b[0m\u001b[0;34m\u001b[0m\u001b[0m\n\u001b[1;32m    857\u001b[0m       \u001b[0;31m# Release the lock early so that multiple threads can perform the call\u001b[0m\u001b[0;34m\u001b[0m\u001b[0;34m\u001b[0m\u001b[0;34m\u001b[0m\u001b[0m\n",
            "\u001b[0;32m/usr/local/lib/python3.7/dist-packages/tensorflow/python/eager/function.py\u001b[0m in \u001b[0;36m__call__\u001b[0;34m(self, *args, **kwargs)\u001b[0m\n\u001b[1;32m   2941\u001b[0m        filtered_flat_args) = self._maybe_define_function(args, kwargs)\n\u001b[1;32m   2942\u001b[0m     return graph_function._call_flat(\n\u001b[0;32m-> 2943\u001b[0;31m         filtered_flat_args, captured_inputs=graph_function.captured_inputs)  # pylint: disable=protected-access\n\u001b[0m\u001b[1;32m   2944\u001b[0m \u001b[0;34m\u001b[0m\u001b[0m\n\u001b[1;32m   2945\u001b[0m   \u001b[0;34m@\u001b[0m\u001b[0mproperty\u001b[0m\u001b[0;34m\u001b[0m\u001b[0;34m\u001b[0m\u001b[0m\n",
            "\u001b[0;32m/usr/local/lib/python3.7/dist-packages/tensorflow/python/eager/function.py\u001b[0m in \u001b[0;36m_call_flat\u001b[0;34m(self, args, captured_inputs, cancellation_manager)\u001b[0m\n\u001b[1;32m   1917\u001b[0m       \u001b[0;31m# No tape is watching; skip to running the function.\u001b[0m\u001b[0;34m\u001b[0m\u001b[0;34m\u001b[0m\u001b[0;34m\u001b[0m\u001b[0m\n\u001b[1;32m   1918\u001b[0m       return self._build_call_outputs(self._inference_function.call(\n\u001b[0;32m-> 1919\u001b[0;31m           ctx, args, cancellation_manager=cancellation_manager))\n\u001b[0m\u001b[1;32m   1920\u001b[0m     forward_backward = self._select_forward_and_backward_functions(\n\u001b[1;32m   1921\u001b[0m         \u001b[0margs\u001b[0m\u001b[0;34m,\u001b[0m\u001b[0;34m\u001b[0m\u001b[0;34m\u001b[0m\u001b[0m\n",
            "\u001b[0;32m/usr/local/lib/python3.7/dist-packages/tensorflow/python/eager/function.py\u001b[0m in \u001b[0;36mcall\u001b[0;34m(self, ctx, args, cancellation_manager)\u001b[0m\n\u001b[1;32m    558\u001b[0m               \u001b[0minputs\u001b[0m\u001b[0;34m=\u001b[0m\u001b[0margs\u001b[0m\u001b[0;34m,\u001b[0m\u001b[0;34m\u001b[0m\u001b[0;34m\u001b[0m\u001b[0m\n\u001b[1;32m    559\u001b[0m               \u001b[0mattrs\u001b[0m\u001b[0;34m=\u001b[0m\u001b[0mattrs\u001b[0m\u001b[0;34m,\u001b[0m\u001b[0;34m\u001b[0m\u001b[0;34m\u001b[0m\u001b[0m\n\u001b[0;32m--> 560\u001b[0;31m               ctx=ctx)\n\u001b[0m\u001b[1;32m    561\u001b[0m         \u001b[0;32melse\u001b[0m\u001b[0;34m:\u001b[0m\u001b[0;34m\u001b[0m\u001b[0;34m\u001b[0m\u001b[0m\n\u001b[1;32m    562\u001b[0m           outputs = execute.execute_with_cancellation(\n",
            "\u001b[0;32m/usr/local/lib/python3.7/dist-packages/tensorflow/python/eager/execute.py\u001b[0m in \u001b[0;36mquick_execute\u001b[0;34m(op_name, num_outputs, inputs, attrs, ctx, name)\u001b[0m\n\u001b[1;32m     58\u001b[0m     \u001b[0mctx\u001b[0m\u001b[0;34m.\u001b[0m\u001b[0mensure_initialized\u001b[0m\u001b[0;34m(\u001b[0m\u001b[0;34m)\u001b[0m\u001b[0;34m\u001b[0m\u001b[0;34m\u001b[0m\u001b[0m\n\u001b[1;32m     59\u001b[0m     tensors = pywrap_tfe.TFE_Py_Execute(ctx._handle, device_name, op_name,\n\u001b[0;32m---> 60\u001b[0;31m                                         inputs, attrs, num_outputs)\n\u001b[0m\u001b[1;32m     61\u001b[0m   \u001b[0;32mexcept\u001b[0m \u001b[0mcore\u001b[0m\u001b[0;34m.\u001b[0m\u001b[0m_NotOkStatusException\u001b[0m \u001b[0;32mas\u001b[0m \u001b[0me\u001b[0m\u001b[0;34m:\u001b[0m\u001b[0;34m\u001b[0m\u001b[0;34m\u001b[0m\u001b[0m\n\u001b[1;32m     62\u001b[0m     \u001b[0;32mif\u001b[0m \u001b[0mname\u001b[0m \u001b[0;32mis\u001b[0m \u001b[0;32mnot\u001b[0m \u001b[0;32mNone\u001b[0m\u001b[0;34m:\u001b[0m\u001b[0;34m\u001b[0m\u001b[0;34m\u001b[0m\u001b[0m\n",
            "\u001b[0;31mKeyboardInterrupt\u001b[0m: "
          ]
        }
      ]
    },
    {
      "cell_type": "code",
      "metadata": {
        "pycharm": {
          "name": "#%%\n",
          "is_executing": true
        },
        "id": "fhXYvp1nGLy3",
        "colab": {
          "base_uri": "https://localhost:8080/"
        },
        "outputId": "940438aa-4edf-4634-f49b-fe578759aab4"
      },
      "source": [
        "# push repository (updated model etc.) back to github\n",
        "%cd /content/{GIT_REPOSITORY}\n",
        "\"\"\"\n",
        "git add -A stages all changes\n",
        "git add . stages new files and modifications, without deletions\n",
        "git add -u stages modifications and deletions, without new files\n",
        "\"\"\"\n",
        "!git add -A\n",
        "\n",
        "!git config --global user.email {GIT_EMAIL}\n",
        "!git config --global user.name {GIT_USERNAME}\n",
        "!git commit -m \"Automatically commit and push through Google Colab!\"\n",
        "\n",
        "!git push"
      ],
      "execution_count": 13,
      "outputs": [
        {
          "output_type": "stream",
          "text": [
            "/content/chess_heuristics_deep_learning\n",
            "[master 1ca365e] Automatically commit and push through Google Colab!\n",
            " 1 file changed, 0 insertions(+), 0 deletions(-)\n",
            "Counting objects: 3, done.\n",
            "Delta compression using up to 2 threads.\n",
            "Compressing objects: 100% (3/3), done.\n",
            "Writing objects: 100% (3/3), 11.37 KiB | 11.38 MiB/s, done.\n",
            "Total 3 (delta 2), reused 0 (delta 0)\n",
            "remote: Resolving deltas: 100% (2/2), completed with 2 local objects.\u001b[K\n",
            "To https://github.com/larsaars/chess_heuristics_deep_learning.git\n",
            "   23bbdc5..1ca365e  master -> master\n"
          ],
          "name": "stdout"
        }
      ]
    }
  ]
}