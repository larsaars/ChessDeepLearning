{
  "nbformat": 4,
  "nbformat_minor": 0,
  "metadata": {
    "kernelspec": {
      "display_name": "Python 3",
      "language": "python",
      "name": "python3"
    },
    "language_info": {
      "codemirror_mode": {
        "name": "ipython",
        "version": 2
      },
      "file_extension": ".py",
      "mimetype": "text/x-python",
      "name": "python",
      "nbconvert_exporter": "python",
      "pygments_lexer": "ipython2",
      "version": "2.7.6"
    },
    "colab": {
      "name": "train.ipynb",
      "provenance": []
    },
    "accelerator": "GPU"
  },
  "cells": [
    {
      "cell_type": "code",
      "metadata": {
        "pycharm": {
          "name": "#%%\n"
        },
        "colab": {
          "base_uri": "https://localhost:8080/"
        },
        "id": "yEln7vYTGLyu",
        "outputId": "af0a5652-b761-43fd-db02-dae7cff2b707"
      },
      "source": [
        "# ensure packages are installed, uninstall normal tensorflow and ensure gpu can be used\n",
        "!pip install -qU chess"
      ],
      "execution_count": 1,
      "outputs": [
        {
          "output_type": "stream",
          "text": [
            "\u001b[?25l\r\u001b[K     |██▎                             | 10kB 18.1MB/s eta 0:00:01\r\u001b[K     |████▋                           | 20kB 13.5MB/s eta 0:00:01\r\u001b[K     |███████                         | 30kB 9.5MB/s eta 0:00:01\r\u001b[K     |█████████▎                      | 40kB 8.4MB/s eta 0:00:01\r\u001b[K     |███████████▋                    | 51kB 5.3MB/s eta 0:00:01\r\u001b[K     |██████████████                  | 61kB 5.5MB/s eta 0:00:01\r\u001b[K     |████████████████▎               | 71kB 5.9MB/s eta 0:00:01\r\u001b[K     |██████████████████▌             | 81kB 6.6MB/s eta 0:00:01\r\u001b[K     |████████████████████▉           | 92kB 6.0MB/s eta 0:00:01\r\u001b[K     |███████████████████████▏        | 102kB 6.4MB/s eta 0:00:01\r\u001b[K     |█████████████████████████▌      | 112kB 6.4MB/s eta 0:00:01\r\u001b[K     |███████████████████████████▉    | 122kB 6.4MB/s eta 0:00:01\r\u001b[K     |██████████████████████████████▏ | 133kB 6.4MB/s eta 0:00:01\r\u001b[K     |████████████████████████████████| 143kB 6.4MB/s \n",
            "\u001b[?25h"
          ],
          "name": "stdout"
        }
      ]
    },
    {
      "cell_type": "code",
      "metadata": {
        "pycharm": {
          "name": "#%%\n"
        },
        "colab": {
          "base_uri": "https://localhost:8080/"
        },
        "id": "oez7luTYbdCc",
        "outputId": "00b1939a-bc26-4600-9dc2-79a28f86a08a"
      },
      "source": [
        "import getpass  # For hiding token input\n",
        "\n",
        "# input forms for GitHub username, email address and token\n",
        "GIT_USERNAME = input(\"\\nEnter GitHub user name: \").strip()\n",
        "GIT_EMAIL = input(\"\\nEnter GitHub email address: \").strip()\n",
        "GIT_TOKEN = getpass.getpass(\"\\nEnter GitHub token: \").strip()"
      ],
      "execution_count": 2,
      "outputs": [
        {
          "output_type": "stream",
          "text": [
            "\n",
            "Enter GitHub user name: larsaars\n",
            "\n",
            "Enter GitHub email address: lurzapps@gmail.com\n",
            "\n",
            "Enter GitHub token: ··········\n"
          ],
          "name": "stdout"
        }
      ]
    },
    {
      "cell_type": "code",
      "metadata": {
        "pycharm": {
          "name": "#%%\n"
        },
        "colab": {
          "base_uri": "https://localhost:8080/"
        },
        "id": "7lKGmlxzbdCd",
        "outputId": "e147e34d-8435-40fb-91f6-b395f6cdc7c7"
      },
      "source": [
        "import os\n",
        "\n",
        "%cd /content/\n",
        "\n",
        "# Clean sample_data\n",
        "sd = 'sample_data'\n",
        "if os.path.exists(sd):\n",
        "  print(f\"removing {sd}!\")\n",
        "  !rm -rf {sd}\n",
        "\n",
        "# GitHub repository name\n",
        "GIT_REPOSITORY = 'chess_heuristics_deep_learning'\n",
        "\n",
        "# Path to GitHub repository\n",
        "GIT_PATH = 'https://' + GIT_TOKEN + '@github.com/' + GIT_USERNAME + '/' + GIT_REPOSITORY + '.git'\n",
        "\n",
        "# Clone or pull git repository\n",
        "if not os.path.exists(GIT_REPOSITORY):\n",
        "  # Clone the github repository\n",
        "  !git clone {GIT_PATH}\n",
        "else:\n",
        "  # else pull the github repository\n",
        "  %cd /content/{GIT_REPOSITORY}\n",
        "  !git pull {GIT_PATH}\n",
        "\n",
        "%cd /content/{GIT_REPOSITORY}\n",
        "print(\"\\nDone.\")"
      ],
      "execution_count": 3,
      "outputs": [
        {
          "output_type": "stream",
          "text": [
            "/content\n",
            "removing sample_data!\n",
            "Cloning into 'chess_heuristics_deep_learning'...\n",
            "remote: Enumerating objects: 119, done.\u001b[K\n",
            "remote: Counting objects: 100% (119/119), done.\u001b[K\n",
            "remote: Compressing objects: 100% (83/83), done.\u001b[K\n",
            "remote: Total 119 (delta 56), reused 85 (delta 30), pack-reused 0\u001b[K\n",
            "Receiving objects: 100% (119/119), 2.04 MiB | 11.76 MiB/s, done.\n",
            "Resolving deltas: 100% (56/56), done.\n",
            "/content/chess_heuristics_deep_learning\n",
            "\n",
            "Done.\n"
          ],
          "name": "stdout"
        }
      ]
    },
    {
      "cell_type": "code",
      "metadata": {
        "pycharm": {
          "name": "#%%\n",
          "is_executing": true
        },
        "id": "k0_pC69SGLyv"
      },
      "source": [
        "# upload the dataset to colab, the path is defined here\n",
        "dataset_path = 'data/games.csv'"
      ],
      "execution_count": 4,
      "outputs": []
    },
    {
      "cell_type": "code",
      "metadata": {
        "pycharm": {
          "name": "#%%\n",
          "is_executing": true
        },
        "id": "uhsQUSZMGLyy"
      },
      "source": [
        "# make imports\n",
        "import pandas as pd\n",
        "import numpy as np\n",
        "import chess\n",
        "from tensorflow import keras\n",
        "import tensorflow as tf\n",
        "\n",
        "from tensorflow.keras.layers import BatchNormalization, Dense, Flatten\n",
        "from tensorflow.keras.layers import Conv2D, MaxPooling2D\n",
        "from tensorflow.keras.models import Sequential"
      ],
      "execution_count": 5,
      "outputs": []
    },
    {
      "cell_type": "code",
      "metadata": {
        "pycharm": {
          "name": "#%%\n",
          "is_executing": true
        },
        "colab": {
          "base_uri": "https://localhost:8080/"
        },
        "id": "QeukAZX9GLyz",
        "outputId": "3bbe3342-a6f5-40dc-c155-20bcfdb29c8c"
      },
      "source": [
        "# ensure tensorflow is imported properly\n",
        "print(tf.__version__)\n",
        "tf.config.list_physical_devices('GPU')"
      ],
      "execution_count": 6,
      "outputs": [
        {
          "output_type": "stream",
          "text": [
            "2.4.1\n"
          ],
          "name": "stdout"
        },
        {
          "output_type": "execute_result",
          "data": {
            "text/plain": [
              "[PhysicalDevice(name='/physical_device:GPU:0', device_type='GPU')]"
            ]
          },
          "metadata": {
            "tags": []
          },
          "execution_count": 6
        }
      ]
    },
    {
      "cell_type": "code",
      "metadata": {
        "pycharm": {
          "name": "#%%\n",
          "is_executing": true
        },
        "id": "lQWwVDnyGLyz"
      },
      "source": [
        "# utility functions for chess\n",
        "chess_dict = {\n",
        "    'p': [1, 0, 0, 0, 0, 0, 0, 0, 0, 0, 0, 0],\n",
        "    'P': [0, 0, 0, 0, 0, 0, 1, 0, 0, 0, 0, 0],\n",
        "    'n': [0, 1, 0, 0, 0, 0, 0, 0, 0, 0, 0, 0],\n",
        "    'N': [0, 0, 0, 0, 0, 0, 0, 1, 0, 0, 0, 0],\n",
        "    'b': [0, 0, 1, 0, 0, 0, 0, 0, 0, 0, 0, 0],\n",
        "    'B': [0, 0, 0, 0, 0, 0, 0, 0, 1, 0, 0, 0],\n",
        "    'r': [0, 0, 0, 1, 0, 0, 0, 0, 0, 0, 0, 0],\n",
        "    'R': [0, 0, 0, 0, 0, 0, 0, 0, 0, 1, 0, 0],\n",
        "    'q': [0, 0, 0, 0, 1, 0, 0, 0, 0, 0, 0, 0],\n",
        "    'Q': [0, 0, 0, 0, 0, 0, 0, 0, 0, 0, 1, 0],\n",
        "    'k': [0, 0, 0, 0, 0, 1, 0, 0, 0, 0, 0, 0],\n",
        "    'K': [0, 0, 0, 0, 0, 0, 0, 0, 0, 0, 0, 1],\n",
        "    '.': [0, 0, 0, 0, 0, 0, 0, 0, 0, 0, 0, 0],\n",
        "}\n",
        "\n",
        "\n",
        "def make_matrix(board):\n",
        "    pgn = board.epd()\n",
        "    foo = []\n",
        "    pieces = pgn.split(\" \", 1)[0]\n",
        "    rows = pieces.split(\"/\")\n",
        "    for row in rows:\n",
        "        foo2 = []\n",
        "        for thing in row:\n",
        "            if thing.isdigit():\n",
        "                for i in range(0, int(thing)):\n",
        "                    foo2.append('.')\n",
        "            else:\n",
        "                foo2.append(thing)\n",
        "        foo.append(foo2)\n",
        "    return foo\n",
        "\n",
        "\n",
        "def translate(matrix):\n",
        "    rows = []\n",
        "    for row in matrix:\n",
        "        terms = []\n",
        "        for term in row:\n",
        "            terms.append(chess_dict[term])\n",
        "        rows.append(terms)\n",
        "    return rows"
      ],
      "execution_count": 7,
      "outputs": []
    },
    {
      "cell_type": "code",
      "metadata": {
        "pycharm": {
          "name": "#%%\n",
          "is_executing": true
        },
        "id": "Pm24i0cjGLyz"
      },
      "source": [
        "# create the model and compile\n",
        "model = Sequential()\n",
        "model.add(Conv2D(filters=64, kernel_size=1, activation='relu', input_shape=(8, 8, 12)))\n",
        "model.add(MaxPooling2D())\n",
        "model.add(Conv2D(filters=24, kernel_size=1, activation='relu'))\n",
        "model.add(MaxPooling2D())\n",
        "model.add(Conv2D(filters=10, kernel_size=1, activation='relu'))\n",
        "model.add(Flatten())\n",
        "model.add(BatchNormalization())\n",
        "model.add(Dense(1, activation='tanh'))\n",
        "\n",
        "model.compile(optimizer='Nadam', loss='mse')"
      ],
      "execution_count": 8,
      "outputs": []
    },
    {
      "cell_type": "code",
      "metadata": {
        "pycharm": {
          "name": "#%%\n",
          "is_executing": true
        },
        "id": "c40oSurDGLy0"
      },
      "source": [
        "# read the pandas dataframe and create X and y\n",
        "df = pd.read_csv(dataset_path, sep=';')\n",
        "df = df[df['winner'] != 'draw']\n",
        "df = df[df['victory_status'] != 'outoftime']\n",
        "moves = df['moves'].values\n",
        "winner = df['winner'].values\n",
        "X = []\n",
        "y = []"
      ],
      "execution_count": 9,
      "outputs": []
    },
    {
      "cell_type": "code",
      "metadata": {
        "pycharm": {
          "name": "#%%\n",
          "is_executing": true
        },
        "id": "yHfRLd2wGLy1"
      },
      "source": [
        "\n",
        "# create dataset\n",
        "index = 0\n",
        "for game in moves:\n",
        "    all_moves = game.split()\n",
        "    total_moves = len(all_moves)\n",
        "    if winner[index] == 'black':\n",
        "        game_winner = -1\n",
        "    else:\n",
        "        game_winner = 1\n",
        "\n",
        "    board = chess.Board()\n",
        "    for i in range(len(all_moves)):\n",
        "        board.push_san(all_moves[i])\n",
        "        value = game_winner * (i / total_moves)\n",
        "        matrix = make_matrix(board.copy())\n",
        "        rows = translate(matrix)\n",
        "        X.append([rows])\n",
        "        y.append(value)\n",
        "\n",
        "    index += 1"
      ],
      "execution_count": 10,
      "outputs": []
    },
    {
      "cell_type": "code",
      "metadata": {
        "pycharm": {
          "name": "#%%\n",
          "is_executing": true
        },
        "id": "Z52YZ29SGLy2"
      },
      "source": [
        "# redefine X and y as numpy arrays (and reshape X)\n",
        "X = np.array(X).reshape((len(X), 8, 8, 12))\n",
        "y = np.array(y)"
      ],
      "execution_count": 11,
      "outputs": []
    },
    {
      "cell_type": "code",
      "metadata": {
        "pycharm": {
          "name": "#%%\n",
          "is_executing": true
        },
        "colab": {
          "base_uri": "https://localhost:8080/"
        },
        "id": "UxIx0nW3GLy2",
        "outputId": "de1fe355-52cf-42eb-d6e4-4a0ce87b84b0"
      },
      "source": [
        "# start training\n",
        "# model file name\n",
        "h5 = 'model.h5'\n",
        "\n",
        "# create callbacks\n",
        "checkpoint = keras.callbacks.ModelCheckpoint(h5,\n",
        "                                             monitor='loss',\n",
        "                                             verbose=0,\n",
        "                                             save_best_only=True,\n",
        "                                             save_weights_only=True,\n",
        "                                             mode='auto',\n",
        "                                             save_freq=1)\n",
        "es = keras.callbacks.EarlyStopping(monitor='loss', mode='min', verbose=1, patience=500)\n",
        "\n",
        "# load old model if exists\n",
        "if os.path.exists(h5):\n",
        "  model.load_weights(h5)\n",
        "  print('Imported old model; now continue with training.')\n",
        "\n",
        "# not a 1000 epochs since we want the repository to be automatically pushed back once done with the epochs\n",
        "model.fit(X, y, epochs=250, verbose=2, callbacks=[checkpoint, es])\n",
        "print('done')"
      ],
      "execution_count": null,
      "outputs": [
        {
          "output_type": "stream",
          "text": [
            "Imported old model; now continue with training.\n",
            "Epoch 1/250\n",
            "31710/31710 - 168s - loss: 0.2330\n",
            "Epoch 2/250\n",
            "31710/31710 - 159s - loss: 0.2332\n",
            "Epoch 3/250\n",
            "31710/31710 - 160s - loss: 0.2329\n",
            "Epoch 4/250\n",
            "31710/31710 - 159s - loss: 0.2329\n",
            "Epoch 5/250\n",
            "31710/31710 - 160s - loss: 0.2328\n",
            "Epoch 6/250\n",
            "31710/31710 - 160s - loss: 0.2328\n",
            "Epoch 7/250\n",
            "31710/31710 - 161s - loss: 0.2327\n",
            "Epoch 8/250\n",
            "31710/31710 - 160s - loss: 0.2329\n",
            "Epoch 9/250\n",
            "31710/31710 - 160s - loss: 0.2329\n",
            "Epoch 10/250\n",
            "31710/31710 - 160s - loss: 0.2325\n",
            "Epoch 11/250\n",
            "31710/31710 - 161s - loss: 0.2329\n",
            "Epoch 12/250\n",
            "31710/31710 - 159s - loss: 0.2327\n",
            "Epoch 13/250\n",
            "31710/31710 - 159s - loss: 0.2327\n",
            "Epoch 14/250\n",
            "31710/31710 - 159s - loss: 0.2327\n",
            "Epoch 15/250\n",
            "31710/31710 - 159s - loss: 0.2329\n",
            "Epoch 16/250\n",
            "31710/31710 - 159s - loss: 0.2326\n",
            "Epoch 17/250\n",
            "31710/31710 - 160s - loss: 0.2326\n",
            "Epoch 18/250\n",
            "31710/31710 - 159s - loss: 0.2325\n",
            "Epoch 19/250\n",
            "31710/31710 - 159s - loss: 0.2325\n",
            "Epoch 20/250\n",
            "31710/31710 - 161s - loss: 0.2327\n",
            "Epoch 21/250\n",
            "31710/31710 - 160s - loss: 0.2326\n",
            "Epoch 22/250\n",
            "31710/31710 - 162s - loss: 0.2326\n",
            "Epoch 23/250\n",
            "31710/31710 - 161s - loss: 0.2325\n",
            "Epoch 24/250\n",
            "31710/31710 - 161s - loss: 0.2324\n",
            "Epoch 25/250\n",
            "31710/31710 - 159s - loss: 0.2324\n",
            "Epoch 26/250\n",
            "31710/31710 - 159s - loss: 0.2323\n",
            "Epoch 27/250\n",
            "31710/31710 - 159s - loss: 0.2324\n",
            "Epoch 28/250\n",
            "31710/31710 - 159s - loss: 0.2323\n",
            "Epoch 29/250\n",
            "31710/31710 - 160s - loss: 0.2325\n",
            "Epoch 30/250\n",
            "31710/31710 - 161s - loss: 0.2325\n",
            "Epoch 31/250\n",
            "31710/31710 - 161s - loss: 0.2323\n",
            "Epoch 32/250\n",
            "31710/31710 - 160s - loss: 0.2324\n",
            "Epoch 33/250\n",
            "31710/31710 - 159s - loss: 0.2323\n",
            "Epoch 34/250\n",
            "31710/31710 - 158s - loss: 0.2322\n",
            "Epoch 35/250\n",
            "31710/31710 - 159s - loss: 0.2323\n",
            "Epoch 36/250\n",
            "31710/31710 - 159s - loss: 0.2322\n",
            "Epoch 37/250\n",
            "31710/31710 - 159s - loss: 0.2324\n",
            "Epoch 38/250\n",
            "31710/31710 - 161s - loss: 0.2325\n",
            "Epoch 39/250\n",
            "31710/31710 - 161s - loss: 0.2323\n",
            "Epoch 40/250\n",
            "31710/31710 - 160s - loss: 0.2323\n",
            "Epoch 41/250\n",
            "31710/31710 - 159s - loss: 0.2322\n",
            "Epoch 42/250\n",
            "31710/31710 - 159s - loss: 0.2322\n",
            "Epoch 43/250\n",
            "31710/31710 - 159s - loss: 0.2322\n",
            "Epoch 44/250\n",
            "31710/31710 - 160s - loss: 0.2323\n",
            "Epoch 45/250\n",
            "31710/31710 - 160s - loss: 0.2321\n",
            "Epoch 46/250\n",
            "31710/31710 - 161s - loss: 0.2320\n",
            "Epoch 47/250\n",
            "31710/31710 - 161s - loss: 0.2322\n",
            "Epoch 48/250\n",
            "31710/31710 - 160s - loss: 0.2322\n",
            "Epoch 49/250\n",
            "31710/31710 - 159s - loss: 0.2320\n",
            "Epoch 50/250\n",
            "31710/31710 - 160s - loss: 0.2320\n",
            "Epoch 51/250\n",
            "31710/31710 - 159s - loss: 0.2320\n",
            "Epoch 52/250\n",
            "31710/31710 - 160s - loss: 0.2320\n",
            "Epoch 53/250\n",
            "31710/31710 - 160s - loss: 0.2322\n",
            "Epoch 54/250\n",
            "31710/31710 - 161s - loss: 0.2319\n",
            "Epoch 55/250\n",
            "31710/31710 - 161s - loss: 0.2319\n",
            "Epoch 56/250\n",
            "31710/31710 - 161s - loss: 0.2319\n",
            "Epoch 57/250\n",
            "31710/31710 - 159s - loss: 0.2320\n",
            "Epoch 58/250\n",
            "31710/31710 - 159s - loss: 0.2320\n",
            "Epoch 59/250\n",
            "31710/31710 - 159s - loss: 0.2318\n",
            "Epoch 60/250\n",
            "31710/31710 - 160s - loss: 0.2320\n",
            "Epoch 61/250\n",
            "31710/31710 - 160s - loss: 0.2320\n",
            "Epoch 62/250\n",
            "31710/31710 - 161s - loss: 0.2319\n",
            "Epoch 63/250\n",
            "31710/31710 - 161s - loss: 0.2320\n",
            "Epoch 64/250\n",
            "31710/31710 - 161s - loss: 0.2317\n",
            "Epoch 65/250\n",
            "31710/31710 - 159s - loss: 0.2317\n",
            "Epoch 66/250\n",
            "31710/31710 - 159s - loss: 0.2320\n",
            "Epoch 67/250\n",
            "31710/31710 - 160s - loss: 0.2322\n",
            "Epoch 68/250\n",
            "31710/31710 - 160s - loss: 0.2318\n",
            "Epoch 69/250\n",
            "31710/31710 - 159s - loss: 0.2320\n",
            "Epoch 70/250\n",
            "31710/31710 - 160s - loss: 0.2319\n",
            "Epoch 71/250\n",
            "31710/31710 - 160s - loss: 0.2317\n",
            "Epoch 72/250\n",
            "31710/31710 - 160s - loss: 0.2319\n",
            "Epoch 73/250\n",
            "31710/31710 - 160s - loss: 0.2319\n",
            "Epoch 74/250\n",
            "31710/31710 - 158s - loss: 0.2319\n",
            "Epoch 75/250\n",
            "31710/31710 - 159s - loss: 0.2319\n",
            "Epoch 76/250\n",
            "31710/31710 - 159s - loss: 0.2318\n",
            "Epoch 77/250\n",
            "31710/31710 - 159s - loss: 0.2318\n",
            "Epoch 78/250\n",
            "31710/31710 - 161s - loss: 0.2318\n",
            "Epoch 79/250\n",
            "31710/31710 - 161s - loss: 0.2317\n",
            "Epoch 80/250\n",
            "31710/31710 - 161s - loss: 0.2317\n",
            "Epoch 81/250\n",
            "31710/31710 - 160s - loss: 0.2318\n",
            "Epoch 82/250\n",
            "31710/31710 - 159s - loss: 0.2318\n",
            "Epoch 83/250\n",
            "31710/31710 - 159s - loss: 0.2320\n",
            "Epoch 84/250\n",
            "31710/31710 - 159s - loss: 0.2320\n",
            "Epoch 85/250\n",
            "31710/31710 - 160s - loss: 0.2318\n",
            "Epoch 86/250\n",
            "31710/31710 - 160s - loss: 0.2317\n",
            "Epoch 87/250\n",
            "31710/31710 - 161s - loss: 0.2318\n",
            "Epoch 88/250\n",
            "31710/31710 - 160s - loss: 0.2317\n",
            "Epoch 89/250\n",
            "31710/31710 - 160s - loss: 0.2319\n",
            "Epoch 90/250\n",
            "31710/31710 - 159s - loss: 0.2317\n",
            "Epoch 91/250\n",
            "31710/31710 - 160s - loss: 0.2319\n",
            "Epoch 92/250\n",
            "31710/31710 - 159s - loss: 0.2317\n",
            "Epoch 93/250\n",
            "31710/31710 - 160s - loss: 0.2316\n",
            "Epoch 94/250\n",
            "31710/31710 - 159s - loss: 0.2315\n",
            "Epoch 95/250\n",
            "31710/31710 - 160s - loss: 0.2317\n",
            "Epoch 96/250\n",
            "31710/31710 - 160s - loss: 0.2316\n",
            "Epoch 97/250\n",
            "31710/31710 - 159s - loss: 0.2317\n",
            "Epoch 98/250\n",
            "31710/31710 - 158s - loss: 0.2318\n",
            "Epoch 99/250\n",
            "31710/31710 - 160s - loss: 0.2318\n",
            "Epoch 100/250\n",
            "31710/31710 - 159s - loss: 0.2317\n",
            "Epoch 101/250\n",
            "31710/31710 - 160s - loss: 0.2317\n",
            "Epoch 102/250\n",
            "31710/31710 - 160s - loss: 0.2318\n",
            "Epoch 103/250\n",
            "31710/31710 - 160s - loss: 0.2318\n",
            "Epoch 104/250\n",
            "31710/31710 - 161s - loss: 0.2316\n",
            "Epoch 105/250\n",
            "31710/31710 - 161s - loss: 0.2315\n",
            "Epoch 106/250\n"
          ],
          "name": "stdout"
        }
      ]
    },
    {
      "cell_type": "code",
      "metadata": {
        "pycharm": {
          "name": "#%%\n",
          "is_executing": true
        },
        "id": "fhXYvp1nGLy3"
      },
      "source": [
        "# push repository (updated model etc.) back to github\n",
        "%cd /content/{GIT_REPOSITORY}\n",
        "\"\"\"\n",
        "git add -A stages all changes\n",
        "git add . stages new files and modifications, without deletions\n",
        "git add -u stages modifications and deletions, without new files\n",
        "\"\"\"\n",
        "!git status\n",
        "\n",
        "!git add -A\n",
        "\n",
        "!git config --global user.email {GIT_EMAIL}\n",
        "!git config --global user.name {GIT_USERNAME}\n",
        "!git commit -m \"Automatically commit and push through Google Colab!\"\n",
        "\n",
        "!git push"
      ],
      "execution_count": null,
      "outputs": []
    }
  ]
}